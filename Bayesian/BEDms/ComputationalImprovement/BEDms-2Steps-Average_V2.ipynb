{
 "cells": [
  {
   "cell_type": "markdown",
   "metadata": {},
   "source": [
    "# Bayesian Experimental Design for model selection V2"
   ]
  },
  {
   "cell_type": "markdown",
   "metadata": {},
   "source": [
    "## Average of fluorescence reporters, 2 step experiment"
   ]
  },
  {
   "cell_type": "markdown",
   "metadata": {},
   "source": [
    "This script follows the same scheme as the ones used for the OED but introduces the compilation of some scripts in C using Cython and Parallelisation in order to increase speed\n",
    "\n",
    "   ............................................................................................................................................................................................................................................"
   ]
  },
  {
   "cell_type": "markdown",
   "metadata": {},
   "source": [
    "### Import Required libraries"
   ]
  },
  {
   "cell_type": "code",
   "execution_count": 1,
   "metadata": {
    "collapsed": true
   },
   "outputs": [],
   "source": [
    "# Common python libraries\n",
    "import numpy as np\n",
    "# from scipy.integrate import odeint\n",
    "# from scipy.integrate import solve_ivp\n",
    "import matplotlib.pyplot as plt\n",
    "# import scipy\n",
    "import pandas as pd\n",
    "# import seaborn as sns\n",
    "import pickle\n",
    "# import math\n",
    "\n",
    "# Gaussian Process Fitting Scripts\n",
    "import gaussianprocess as gp\n",
    "# from fitderiv import fitderiv\n",
    "# import genutils as gu\n",
    "# import datetime\n",
    "\n",
    "# Bayesian Optimisation Scripts\n",
    "from bayes_opt import BayesianOptimization\n",
    "# from bayes_opt.observer import JSONLogger\n",
    "# from bayes_opt.event import Events\n",
    "# from bayes_opt.util import load_logs\n",
    "\n",
    "# Avoid unnecessary warnings\n",
    "import warnings\n",
    "warnings.filterwarnings(\"ignore\", category=DeprecationWarning) \n",
    "\n",
    "# Multiprocessing\n",
    "from multiprocessing import Pool\n",
    "import multiprocessing as mp\n",
    "\n",
    "# Functions with Models compyled with Cython\n",
    "# import Model1_Cython as M1\n",
    "# import Model2_Cython as M2\n",
    "# import Model3_Cython as M3\n",
    "\n",
    "# Function to simulate the 3 models for all parameter draws (needed in separate file for multiprocessesing in windows)\n",
    "import SolveALLCy as SAC\n",
    "\n",
    "# Bhattacharyya Distance Function \n",
    "import BhattacharyyaDistanceV1 as BD\n"
   ]
  },
  {
   "cell_type": "markdown",
   "metadata": {},
   "source": [
    "### Example:"
   ]
  },
  {
   "cell_type": "code",
   "execution_count": 2,
   "metadata": {
    "collapsed": true
   },
   "outputs": [],
   "source": [
    "# Initial experimental value for all the states\n",
    "ivss = [1,1e-7,28.510,1363.193]\n",
    "# ON inducers \n",
    "pre = [1,1e-7]\n",
    "# Inputs of the experiment\n",
    "inputs = np.empty(18) # What needs to be optimised    --> example: [1e-7,100,1,1e-7]*4+[1e-7,100]\n",
    "evnT = [int(i) for i in list(np.linspace(0,(24*60),10))]\n",
    "# Time Vector\n",
    "t = np.linspace(0,(24*60),(24*60)+1)\n",
    "# Theta samples from posterior distribution of Model 3\n",
    "pM3 = np.asarray(pd.read_csv(\"ParametersCSV/draws_ALL_Model3.stan.csv\"))"
   ]
  },
  {
   "cell_type": "code",
   "execution_count": 3,
   "metadata": {},
   "outputs": [
    {
     "data": {
      "image/png": "[encoded data removed]",
      "text/plain": [
       "<Figure size 432x288 with 1 Axes>"
      ]
     },
     "metadata": {
      "needs_background": "light"
     },
     "output_type": "display_data"
    }
   ],
   "source": [
    "# Subsample of theta\n",
    "p = pM3[0:5,:]\n",
    "# Solve System for Model 3\n",
    "test = SAC.solveALLCy2(t,p,evnT,[1e-7,100,1,1e-7]*4+[1e-7,100],ivss,pre, 'M3')\n",
    "# Plot\n",
    "plt.figure()\n",
    "plt.plot(t[::5], test[:,0:5], 'r')\n",
    "plt.plot(t[::5], test[:,5:10], 'g')\n",
    "plt.show()"
   ]
  },
  {
   "cell_type": "markdown",
   "metadata": {},
   "source": [
    "### Utility Function"
   ]
  },
  {
   "cell_type": "code",
   "execution_count": null,
   "metadata": {
    "collapsed": true
   },
   "outputs": [],
   "source": [
    "def utility2 (IPTG1, IPTG2,\n",
    "             aTc1, aTc2):\n",
    "    \n",
    "    # Definition of inputs for the ODEs\n",
    "        \n",
    "    inputs = [round(IPTG1,2)+1e-7, int(aTc1)+1e-7, round(IPTG2,2)+1e-7, int(aTc2)+1e-7]\n",
    "    \n",
    "    # Initial values for steady state and inputs\n",
    "    ivss = [1,1e-7,1363.193,28.510]\n",
    "    pre = [1,1e-7]\n",
    "    # Event switches and inputs\n",
    "    sp = [int(i) for i in list(np.linspace(0,(24*60),3))]\n",
    "    t =  np.linspace(0,(24*60),(24*60)+1)\n",
    "    \n",
    "    # load parameter draws for the two models\n",
    "    pM1 = np.asarray(pd.read_csv(\"ParametersCSV/drawsRedT_ALL_Model1.stan.csv\"))\n",
    "    pM2 = np.asarray(pd.read_csv(\"ParametersCSV/drawsRedT_ALL_Model2.stan.csv\"))\n",
    "    \n",
    "    # Simulation of the system for the two models and extract of results\n",
    "#     solM1 = SAC.solveALLCy2(t, pM1, sp, inputs, ivss, pre, 'M1')\n",
    "#     solM2 = SAC.solveALLCy2(t, pM2, sp, inputs, ivss, pre, 'M2')\n",
    "#        PARALELISATION\n",
    "    if __name__ ==  '__main__': \n",
    "        num_processors = mp.cpu_count()\n",
    "        p=Pool(processes = num_processors)\n",
    "        for i in range(0,2):\n",
    "            if i==0:\n",
    "                r1 = p.apply_async(SAC.solveALLCy2, args=(t, pM1, sp, inputs, ivss, pre, 'M1'))\n",
    "            elif i==1:\n",
    "                r2 = p.apply_async(SAC.solveALLCy2, args=(t, pM2, sp, inputs, ivss, pre, 'M2'))\n",
    "        \n",
    "        p.close()\n",
    "        p.join() \n",
    "    \n",
    "    solM1 = r1.get()\n",
    "    solM2 = r2.get()    \n",
    "    \n",
    "    RFP_M1 = solM1[:,0:len(pM1[:,1])]\n",
    "    GFP_M1 = solM1[:,len(pM1[:,1]):(len(pM1[:,1])*2)]\n",
    "    \n",
    "    RFP_M2 = solM2[:,0:len(pM2[:,1])]\n",
    "    GFP_M2 = solM2[:,len(pM2[:,1]):(len(pM2[:,1])*2)]\n",
    "    \n",
    "    # Gaussian Process Regression and Reduction\n",
    "    \n",
    "    # Means and standard deviations for each time point for each species and for each model\n",
    "    tgp = np.linspace(0,(24*60),round(24*60/5)+1)\n",
    "    \n",
    "    muR3 = RFP_M2.mean(axis = 1) # Model 2, RFP\n",
    "    sdR3 = RFP_M2.std(axis = 1)\n",
    "    muG3 = GFP_M2.mean(axis = 1) # Model 2, GFP\n",
    "    sdG3 = GFP_M2.std(axis = 1)\n",
    "    muR2 = RFP_M1.mean(axis = 1) # Model 1, RFP\n",
    "    sdR2 = RFP_M1.std(axis = 1)\n",
    "    muG2 = GFP_M1.mean(axis = 1) # Model 1, GFP\n",
    "    sdG2 = GFP_M1.std(axis = 1)\n",
    "\n",
    "    # Gaussian Process regression\n",
    "    gR3= gp.sqexpGP({0:(4, 10), 1: (-4, -2), 2: (-3,-1)}, tgp, muR3, (sdR3**2)) # RFP, Model 2\n",
    "    gR3.findhyperparameters(noruns=15, optmessages = False, quiet = True)\n",
    "    gR3.predict(tgp)\n",
    "    \n",
    "    gG3= gp.sqexpGP({0:(4, 10), 1: (-4, -2), 2: (-3,-1)}, tgp, muG3, (sdG3**2)) # GFP, Model 2\n",
    "    gG3.findhyperparameters(noruns=15, optmessages = False, quiet = True)\n",
    "    gG3.predict(tgp)\n",
    "    \n",
    "    gR2= gp.sqexpGP({0:(4, 10), 1: (-4, -2), 2: (-3,-1)}, tgp, muR2, (sdR2**2)) # RFP, Model 1\n",
    "    gR2.findhyperparameters(noruns=15, optmessages = False, quiet = True)\n",
    "    gR2.predict(tgp)\n",
    "    \n",
    "    gG2= gp.sqexpGP({0:(4, 10), 1: (-4, -2), 2: (-3,-1)}, tgp, muG2, (sdG2**2)) # GFP, Model 1\n",
    "    gG2.findhyperparameters(noruns=15, optmessages = False, quiet = True)\n",
    "    gG2.predict(tgp)\n",
    "    \n",
    "    # Time points reduction\n",
    "\n",
    "    muref = list(np.matrix.transpose((np.random.multivariate_normal(gR3.mnp, gR3.covp, 2000)))[::10])\n",
    "    tref = list(tgp[::10])\n",
    "\n",
    "    g2R3= gp.sqexpGP({0:(4, 10), 1: (-6, -3), 2: (1,4)}, tref, np.asarray(muref).mean(axis=1), np.asarray(muref).std(axis=1)**2)\n",
    "    g2R3.findhyperparameters(noruns=15, optmessages = True, quiet = True)\n",
    "    g2R3.predict(tref)\n",
    "\n",
    "    \n",
    "    muref = list(np.matrix.transpose((np.random.multivariate_normal(gR2.mnp, gR2.covp, 2000)))[::10])\n",
    "    tref = list(tgp[::10])\n",
    "\n",
    "    g2R2= gp.sqexpGP({0:(4, 10), 1: (-6, -3), 2: (1,4)}, tref, np.asarray(muref).mean(axis=1), np.asarray(muref).std(axis=1)**2)\n",
    "    g2R2.findhyperparameters(noruns=15, optmessages = True, quiet = True)\n",
    "    g2R2.predict(tref)\n",
    "\n",
    "    \n",
    "    muref = list(np.matrix.transpose((np.random.multivariate_normal(gG3.mnp, gG3.covp, 2000)))[::10])\n",
    "    tref = list(tgp[::10])\n",
    "\n",
    "    g2G3= gp.sqexpGP({0:(4, 10), 1: (-6, -3), 2: (1,4)}, tref, np.asarray(muref).mean(axis=1), np.asarray(muref).std(axis=1)**2)\n",
    "    g2G3.findhyperparameters(noruns=15, optmessages = True, quiet = True)\n",
    "    g2G3.predict(tref)\n",
    "\n",
    "    \n",
    "    muref = list(np.matrix.transpose((np.random.multivariate_normal(gG2.mnp, gG2.covp, 2000)))[::10])\n",
    "    tref = list(tgp[::10])\n",
    "\n",
    "    \n",
    "    g2G2= gp.sqexpGP({0:(4, 10), 1: (-6, -3), 2: (1,4)}, tref, np.asarray(muref).mean(axis=1), np.asarray(muref).std(axis=1)**2)\n",
    "    g2G2.findhyperparameters(noruns=15, optmessages = True, quiet = True)\n",
    "    g2G2.predict(tref)\n",
    "\n",
    "    \n",
    "    # Bhattacharyya distance:\n",
    "    bdR = BD.BhattacharyyaDist(g2R3.mnp, g2R2.mnp, g2R3.covp, g2R2.covp)\n",
    "    bdG = BD.BhattacharyyaDist(g2G3.mnp, g2G2.mnp, g2G3.covp, g2G2.covp)\n",
    "    \n",
    "    # Utility function value\n",
    "    u_B = (bdR+bdG)/2\n",
    "\n",
    "    return(u_B)\n",
    "    \n"
   ]
  },
  {
   "cell_type": "markdown",
   "metadata": {},
   "source": [
    "### Baysian Optimisation:"
   ]
  },
  {
   "cell_type": "code",
   "execution_count": null,
   "metadata": {
    "collapsed": true
   },
   "outputs": [],
   "source": [
    "# Bounded region of parameter space\n",
    "\n",
    "pbounds = {'IPTG1': (0, 1), 'IPTG2': (0, 1),\n",
    "           'aTc1': (0, 100), 'aTc2': (0, 100)}"
   ]
  },
  {
   "cell_type": "markdown",
   "metadata": {},
   "source": [
    "Setting Bayesian Optimisation with our utility function"
   ]
  },
  {
   "cell_type": "code",
   "execution_count": null,
   "metadata": {
    "collapsed": true
   },
   "outputs": [],
   "source": [
    "optimizer3 = BayesianOptimization(\n",
    "    f=utility2,\n",
    "    pbounds=pbounds,\n",
    "    verbose=2, # verbose = 1 prints only when a maximum is observed, verbose = 0 is silent\n",
    "    random_state=1324,\n",
    ") "
   ]
  },
  {
   "cell_type": "markdown",
   "metadata": {},
   "source": [
    "Begin optimisation rutine"
   ]
  },
  {
   "cell_type": "code",
   "execution_count": null,
   "metadata": {
    "collapsed": true
   },
   "outputs": [],
   "source": [
    "optimizer3.maximize(\n",
    "    init_points=4,\n",
    "    n_iter=400,\n",
    "    alpha=1e-2,\n",
    "    n_restarts_optimizer=3, \n",
    "#     acq=\"ei\", \n",
    "#     xi=1e-4\n",
    ")"
   ]
  },
  {
   "cell_type": "code",
   "execution_count": null,
   "metadata": {
    "collapsed": true
   },
   "outputs": [],
   "source": [
    "# Save results obtained\n",
    "with open('config2sAverage1.optim', 'wb') as config_optim_file:\n",
    " \n",
    "    pickle.dump(optimizer3, config_optim_file)\n",
    "    "
   ]
  },
  {
   "cell_type": "code",
   "execution_count": null,
   "metadata": {
    "collapsed": true
   },
   "outputs": [],
   "source": [
    "# Best utility value generated\n",
    "print(optimizer3.max)"
   ]
  },
  {
   "cell_type": "markdown",
   "metadata": {},
   "source": [
    "Plot best utility value so far per iteration:"
   ]
  },
  {
   "cell_type": "code",
   "execution_count": null,
   "metadata": {
    "collapsed": true
   },
   "outputs": [],
   "source": [
    "v = []\n",
    "for i, res in enumerate(optimizer3.res):\n",
    "    v.append(res['target'])\n",
    "    \n",
    "vn = []\n",
    "for i, val in enumerate(v):\n",
    "    mv = max(v[0:i+1])\n",
    "    vn.append(mv)\n",
    "    \n",
    "plt.figure()\n",
    "plt.plot(vn)\n",
    "plt.plot(v)\n",
    "plt.show()"
   ]
  },
  {
   "cell_type": "markdown",
   "metadata": {},
   "source": [
    "### Check results with plot"
   ]
  },
  {
   "cell_type": "code",
   "execution_count": null,
   "metadata": {
    "collapsed": true
   },
   "outputs": [],
   "source": [
    "inputs = [round(optimizer3.max['params']['IPTG1'], 2)+1e-7, int(optimizer3.max['params']['aTc1'])+1e-7, \n",
    "          round(optimizer3.max['params']['IPTG2'], 2)+1e-7, int(optimizer3.max['params']['aTc2'])+1e-7]\n",
    "\n",
    "ivss = [1,1e-7,1363.193,28.510]\n",
    "pre = [1,1e-7]\n",
    "sp = [int(i) for i in list(np.linspace(0,(24*60),3))]\n",
    "t =  np.linspace(0,(24*60),(24*60)+1)\n",
    "\n",
    "pM1 = np.asarray(pd.read_csv(\"ParametersCSV/drawsRedT_ALL_Model1.stan.csv\"))\n",
    "pM2 = np.asarray(pd.read_csv(\"ParametersCSV/drawsRedT_ALL_Model2.stan.csv\"))\n",
    "\n",
    "# Simulation of the system for the two models and extract of results\n",
    "if __name__ ==  '__main__': \n",
    "    num_processors = mp.cpu_count()\n",
    "    p=Pool(processes = num_processors)\n",
    "    for i in range(0,2):\n",
    "        if i==0:\n",
    "            r1 = p.apply_async(SAC.solveALLCy2, args=(t, pM1, sp, inputs, ivss, pre, 'M1'))\n",
    "        elif i==1:\n",
    "            r2 = p.apply_async(SAC.solveALLCy2, args=(t, pM2, sp, inputs, ivss, pre, 'M2'))\n",
    "\n",
    "    p.close()\n",
    "    p.join() \n",
    "\n",
    "solM1 = r1.get()\n",
    "solM2 = r2.get()    \n",
    "\n",
    "RFP_M1 = solM1[:,0:len(pM1[:,1])]\n",
    "GFP_M1 = solM1[:,len(pM1[:,1]):(len(pM1[:,1])*2)]\n",
    "\n",
    "RFP_M2 = solM2[:,0:len(pM2[:,1])]\n",
    "GFP_M2 = solM2[:,len(pM2[:,1]):(len(pM2[:,1])*2)]\n"
   ]
  },
  {
   "cell_type": "code",
   "execution_count": null,
   "metadata": {
    "collapsed": true
   },
   "outputs": [],
   "source": [
    "\n",
    "plt.figure()\n",
    "lines = plt.plot(t, GFP_M2, 'c')\n",
    "plt.text((24*60)+1, 800, \"Model 2\", bbox=dict(facecolor='c'))\n",
    "plt.title(\"Average\")\n",
    "lines2 = plt.plot(t, GFP_M1, 'g')\n",
    "plt.text((24*60)+1, 600, \"Model 1\", bbox=dict(facecolor='g'))\n",
    "\n",
    "plt.show()\n",
    "plt.figure()\n",
    "plt.plot(t, RFP_M2, 'c')\n",
    "\n",
    "plt.text((24*60)+1, 500, \"Model 2\", bbox=dict(facecolor='c'))\n",
    "plt.text((24*60)+1, 40, \"Model 1\", bbox=dict(facecolor='r'))\n",
    "plt.plot(t, RFP_M1, 'r')\n",
    "plt.show()"
   ]
  },
  {
   "cell_type": "markdown",
   "metadata": {},
   "source": [
    "### Check utility decomposition results"
   ]
  },
  {
   "cell_type": "code",
   "execution_count": null,
   "metadata": {
    "collapsed": true
   },
   "outputs": [],
   "source": [
    "# Gaussian Process Regression and Reduction\n",
    "\n",
    "# Means and standard deviations for each time point for each species and for each model\n",
    "tgp = np.linspace(0,(24*60),(24*60/5)+1)\n",
    "\n",
    "muR3 = RFP_M2.mean(axis = 1) # Model 2, RFP\n",
    "sdR3 = RFP_M2.std(axis = 1)\n",
    "muG3 = GFP_M2.mean(axis = 1) # Model 2, GFP\n",
    "sdG3 = GFP_M2.std(axis = 1)\n",
    "muR2 = RFP_M1.mean(axis = 1) # Model 1, RFP\n",
    "sdR2 = RFP_M1.std(axis = 1)\n",
    "muG2 = GFP_M1.mean(axis = 1) # Model 1, GFP\n",
    "sdG2 = GFP_M1.std(axis = 1)\n",
    "\n",
    "# Gaussian Process regression\n",
    "gR3= gp.sqexpGP({0:(4, 10), 1: (-4, -2), 2: (-3,-1)}, tgp, muR3, (sdR3**2)) # RFP, Model 2\n",
    "gR3.findhyperparameters(noruns=15)\n",
    "gR3.predict(tgp)\n",
    "\n",
    "gG3= gp.sqexpGP({0:(4, 10), 1: (-4, -2), 2: (-3,-1)}, tgp, muG3, (sdG3**2)) # GFP, Model 2\n",
    "gG3.findhyperparameters(noruns=15)\n",
    "gG3.predict(tgp)\n",
    "\n",
    "gR2= gp.sqexpGP({0:(4, 10), 1: (-4, -2), 2: (-3,-1)}, tgp, muR2, (sdR2**2)) # RFP, Model 1\n",
    "gR2.findhyperparameters(noruns=15)\n",
    "gR2.predict(tgp)\n",
    "\n",
    "gG2= gp.sqexpGP({0:(4, 10), 1: (-4, -2), 2: (-3,-1)}, tgp, muG2, (sdG2**2)) # GFP, Model 1\n",
    "gG2.findhyperparameters(noruns=15)\n",
    "gG2.predict(tgp)\n",
    "\n"
   ]
  },
  {
   "cell_type": "code",
   "execution_count": null,
   "metadata": {
    "collapsed": true
   },
   "outputs": [],
   "source": [
    "muref = list(np.matrix.transpose((np.random.multivariate_normal(gR3.mnp, gR3.covp, 2000)))[::10])\n",
    "tref = list(tgp[::10])\n",
    "\n",
    "g2R3= gp.sqexpGP({0:(4, 10), 1: (-6, -3), 2: (1,4)}, tref, np.asarray(muref).mean(axis=1), np.asarray(muref).std(axis=1)**2)\n",
    "g2R3.findhyperparameters(noruns=15, optmessages = True, quiet = True)\n",
    "g2R3.predict(tref)\n",
    "\n",
    "muref = list(np.matrix.transpose((np.random.multivariate_normal(gR2.mnp, gR2.covp, 2000)))[::10])\n",
    "tref = list(tgp[::10])\n",
    "\n",
    "g2R2= gp.sqexpGP({0:(4, 10), 1: (-6, -3), 2: (1,4)}, tref, np.asarray(muref).mean(axis=1), np.asarray(muref).std(axis=1)**2)\n",
    "g2R2.findhyperparameters(noruns=15, optmessages = True, quiet = True)\n",
    "g2R2.predict(tref)\n",
    "\n",
    "muref = list(np.matrix.transpose((np.random.multivariate_normal(gG3.mnp, gG3.covp, 2000)))[::10])\n",
    "tref = list(tgp[::10])\n",
    "\n",
    "g2G3= gp.sqexpGP({0:(4, 10), 1: (-6, -3), 2: (1,4)}, tref, np.asarray(muref).mean(axis=1), np.asarray(muref).std(axis=1)**2)\n",
    "g2G3.findhyperparameters(noruns=15, optmessages = True, quiet = True)\n",
    "g2G3.predict(tref)\n",
    "\n",
    "muref = list(np.matrix.transpose((np.random.multivariate_normal(gG2.mnp, gG2.covp, 2000)))[::10])\n",
    "tref = list(tgp[::10])\n",
    "\n",
    "g2G2= gp.sqexpGP({0:(4, 10), 1: (-6, -3), 2: (1,4)}, tref, np.asarray(muref).mean(axis=1), np.asarray(muref).std(axis=1)**2)\n",
    "g2G2.findhyperparameters(noruns=15, optmessages = True, quiet = True)\n",
    "g2G2.predict(tref)"
   ]
  },
  {
   "cell_type": "code",
   "execution_count": null,
   "metadata": {
    "collapsed": true
   },
   "outputs": [],
   "source": [
    "bdR = BD.BhattacharyyaDist(g2R3.mnp, g2R2.mnp, g2R3.covp, g2R2.covp)\n",
    "bdG = BD.BhattacharyyaDist(g2G3.mnp, g2G2.mnp, g2G3.covp, g2G2.covp)\n",
    "u_B = (bdR+bdG)/2"
   ]
  },
  {
   "cell_type": "code",
   "execution_count": null,
   "metadata": {
    "collapsed": true
   },
   "outputs": [],
   "source": [
    "print(\"The BD for RFP is: \", str(bdR))\n",
    "print(\"The BD for GFP is: \", str(bdG))\n",
    "print(\"The average BD is: \", str(u_B))"
   ]
  },
  {
   "cell_type": "code",
   "execution_count": null,
   "metadata": {
    "collapsed": true
   },
   "outputs": [],
   "source": []
  },
  {
   "cell_type": "code",
   "execution_count": null,
   "metadata": {
    "collapsed": true
   },
   "outputs": [],
   "source": []
  }
 ],
 "metadata": {
  "kernelspec": {
   "display_name": "Python 3",
   "language": "python",
   "name": "python3"
  },
  "language_info": {
   "codemirror_mode": {
    "name": "ipython",
    "version": 3
   },
   "file_extension": ".py",
   "mimetype": "text/x-python",
   "name": "python",
   "nbconvert_exporter": "python",
   "pygments_lexer": "ipython3",
   "version": "3.6.10"
  }
 },
 "nbformat": 4,
 "nbformat_minor": 4
}
