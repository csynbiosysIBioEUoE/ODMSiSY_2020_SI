{
 "cells": [
  {
   "cell_type": "markdown",
   "metadata": {},
   "source": [
    "# Figure 6 "
   ]
  },
  {
   "cell_type": "markdown",
   "metadata": {},
   "source": [
    "### Load required libraries"
   ]
  },
  {
   "cell_type": "code",
   "execution_count": null,
   "metadata": {},
   "outputs": [],
   "source": [
    "import numpy as np\n",
    "import matplotlib.pyplot as plt\n",
    "import pandas as pd\n",
    "import seaborn as sns\n",
    "import pickle\n",
    "from scipy.io import loadmat\n",
    "import seaborn as sns\n",
    "import matplotlib.ticker\n",
    "import matplotlib.gridspec as gridspec\n",
    "\n",
    "from multiprocessing import Pool\n",
    "import multiprocessing as mp\n"
   ]
  },
  {
   "cell_type": "markdown",
   "metadata": {},
   "source": [
    "### Load bistability matrices data"
   ]
  },
  {
   "cell_type": "code",
   "execution_count": null,
   "metadata": {},
   "outputs": [],
   "source": [
    "M1f = loadmat(\"/BistabilityAnalysis2/BiStabilityMatrixModel1.mat\")\n",
    "M2f = loadmat(\"/BistabilityAnalysis2/BiStabilityMatrixModel2.mat\")\n",
    "M3f = loadmat(\"/BistabilityAnalysis2/BiStabilityMatrixModel3.mat\")\n",
    "\n",
    "M1b = loadmat(\"/BistabilityAnalysis2/BayesBiStabilityMatrixModel1.mat\")\n",
    "M2b = loadmat(\"/BistabilityAnalysis2/BayesBiStabilityMatrixModel2.mat\")\n",
    "M3b = loadmat(\"/BistabilityAnalysis2/BayesBiStabilityMatrixModel3.mat\")"
   ]
  },
  {
   "cell_type": "markdown",
   "metadata": {},
   "source": [
    "### Show the matrices (only bistability)"
   ]
  },
  {
   "cell_type": "code",
   "execution_count": null,
   "metadata": {},
   "outputs": [],
   "source": [
    "IPTG = list(np.arange(0,1.01,0.01))\n",
    "aTc = list(range(0,101))"
   ]
  },
  {
   "cell_type": "markdown",
   "metadata": {},
   "source": [
    "Frequentist"
   ]
  },
  {
   "cell_type": "code",
   "execution_count": null,
   "metadata": {},
   "outputs": [],
   "source": [
    "fig = plt.figure(figsize=(13.7, 3.5), dpi = 250)\n",
    "sns.set_context(\"paper\", rc={\"font.size\":8,\"axes.titlesize\":8,\"axes.labelsize\":8,\"axes.tickslabelssize\":8,\"text.usetex\" : True,\"text.latex.unicode\" : True})  \n",
    "gs = gridspec.GridSpec(1, 3, hspace = 1.5)\n",
    "\n",
    "\n",
    "ax1 = plt.subplot(gs[0, 0])\n",
    "ax1.pcolor(aTc, IPTG, M1f['Stab1'])\n",
    "ax1.set_xlabel('aTc (ng/ml)')\n",
    "ax1.set_ylabel('IPTG (nM)')\n",
    "ax1.set_title('Model 1')\n",
    "\n",
    "ax2 = plt.subplot(gs[0, 1])\n",
    "ax2.pcolor(aTc, IPTG, M2f['Stab2'])\n",
    "ax2.set_xlabel('aTc (ng/ml)')\n",
    "ax2.set_title('Model 2')\n",
    "\n",
    "\n",
    "ax3 = plt.subplot(gs[0, 2])\n",
    "ax3.pcolor(aTc, IPTG, M3f['Stab3'])\n",
    "ax3.set_xlabel('aTc (ng/ml)')\n",
    "ax3.set_title('Model 3')\n",
    "\n",
    "plt.show()"
   ]
  },
  {
   "cell_type": "markdown",
   "metadata": {},
   "source": [
    "Bayesian"
   ]
  },
  {
   "cell_type": "code",
   "execution_count": null,
   "metadata": {},
   "outputs": [],
   "source": [
    "fig = plt.figure(figsize=(13.7, 3.5), dpi = 250)\n",
    "sns.set_context(\"paper\", rc={\"font.size\":8,\"axes.titlesize\":8,\"axes.labelsize\":8,\"axes.tickslabelssize\":8,\"text.usetex\" : True,\"text.latex.unicode\" : True})  \n",
    "gs = gridspec.GridSpec(1, 3, hspace = 1.5)\n",
    "\n",
    "\n",
    "ax1 = plt.subplot(gs[0, 0])\n",
    "ax1.pcolor(aTc, IPTG, M1b['BStab1'])\n",
    "ax1.set_xlabel('aTc (ng/ml)')\n",
    "ax1.set_ylabel('IPTG (nM)')\n",
    "ax1.set_title('Model 1')\n",
    "\n",
    "ax2 = plt.subplot(gs[0, 1])\n",
    "ax2.pcolor(aTc, IPTG, M2b['BStab2'])\n",
    "ax2.set_xlabel('aTc (ng/ml)')\n",
    "ax2.set_title('Model 2')\n",
    "\n",
    "\n",
    "ax3 = plt.subplot(gs[0, 2])\n",
    "ax3.pcolor(aTc, IPTG, M3b['BStab3'])\n",
    "ax3.set_xlabel('aTc (ng/ml)')\n",
    "ax3.set_title('Model 3')\n",
    "\n",
    "plt.show()"
   ]
  },
  {
   "cell_type": "markdown",
   "metadata": {},
   "source": [
    "### Set Reporter Dominance Regions"
   ]
  },
  {
   "cell_type": "markdown",
   "metadata": {},
   "source": [
    "Frequentist"
   ]
  },
  {
   "cell_type": "code",
   "execution_count": null,
   "metadata": {},
   "outputs": [],
   "source": [
    "M1fRep = M1f\n",
    "M2fRep = M2f\n",
    "M3fRep = M3f\n",
    "\n",
    "for i in range(0,101):\n",
    "    for j in range(0,101):\n",
    "        if M1fRep['Stab1'][i,j]==0:\n",
    "            if list((M1f['vals1'][i,j])[0] == max((M1f['vals1'][i,j])))[0]:\n",
    "                M1fRep['Stab1'][i,j]=2\n",
    "            else:\n",
    "                M1fRep['Stab1'][i,j]=3\n",
    "                \n",
    "        if M2fRep['Stab2'][i,j]==0:\n",
    "            if list((M2f['vals2'][i,j])[0] == max((M2f['vals2'][i,j])))[0]:\n",
    "                M2fRep['Stab2'][i,j]=2\n",
    "            else:\n",
    "                M2fRep['Stab2'][i,j]=3\n",
    "                \n",
    "        if M3fRep['Stab3'][i,j]==0:\n",
    "            if list((M3f['vals3'][i,j])[0] == max((M3f['vals3'][i,j])))[0]:\n",
    "                M3fRep['Stab3'][i,j]=2\n",
    "            else:\n",
    "                M3fRep['Stab3'][i,j]=3\n",
    "                \n"
   ]
  },
  {
   "cell_type": "code",
   "execution_count": null,
   "metadata": {},
   "outputs": [],
   "source": [
    "norm=plt.Normalize(1,3)\n",
    "cmap = matplotlib.colors.LinearSegmentedColormap.from_list(\"\", [\"#f0f0f0\",\"#d61111\",\"#039a00\"])"
   ]
  },
  {
   "cell_type": "code",
   "execution_count": null,
   "metadata": {},
   "outputs": [],
   "source": [
    "fig = plt.figure(figsize=(13.7, 3.5), dpi = 250)\n",
    "sns.set_context(\"paper\", rc={\"font.size\":8,\"axes.titlesize\":8,\"axes.labelsize\":8,\"axes.tickslabelssize\":8,\"text.usetex\" : True,\"text.latex.unicode\" : True})  \n",
    "gs = gridspec.GridSpec(1, 3, hspace = 1.5)\n",
    "\n",
    "\n",
    "ax1 = plt.subplot(gs[0, 0])\n",
    "ax1.pcolor(aTc, IPTG, M1f['Stab1'], cmap=cmap, norm=norm)\n",
    "ax1.set_xlabel('aTc (ng/ml)')\n",
    "ax1.set_ylabel('IPTG (nM)')\n",
    "ax1.set_title('Model 1')\n",
    "\n",
    "ax2 = plt.subplot(gs[0, 1])\n",
    "ax2.pcolor(aTc, IPTG, M2f['Stab2'], cmap=cmap, norm=norm)\n",
    "ax2.set_xlabel('aTc (ng/ml)')\n",
    "ax2.set_title('Model 2')\n",
    "\n",
    "\n",
    "ax3 = plt.subplot(gs[0, 2])\n",
    "ax3.pcolor(aTc, IPTG, M3f['Stab3'], cmap=cmap, norm=norm)\n",
    "ax3.set_xlabel('aTc (ng/ml)')\n",
    "ax3.set_title('Model 3')\n",
    "\n",
    "plt.show()"
   ]
  },
  {
   "cell_type": "code",
   "execution_count": null,
   "metadata": {},
   "outputs": [],
   "source": [
    "CombMatF = np.zeros(M1f['Stab1'].shape)\n",
    "for i in range(0,101):\n",
    "    for j in range(0,101):\n",
    "        if M1f['Stab1'][i,j]==3 and M3f['Stab3'][i,j]==3:\n",
    "            CombMatF[i,j]=3 # ---------------------------------------> M1,GFP; M3,GFP\n",
    "        elif M1f['Stab1'][i,j]==2 and M3f['Stab3'][i,j]==2:\n",
    "            CombMatF[i,j]=2 # ---------------------------------------> M1,RFP; M3,RFP\n",
    "        elif (M1f['Stab1'][i,j]==3 and M3f['Stab3'][i,j]==2) or (M1f['Stab1'][i,j]==2 and M3f['Stab3'][i,j]==3):\n",
    "            CombMatF[i,j]=4 # ---------------------------------------> M1,GFP; M3,RFP\n",
    "        elif M1f['Stab1'][i,j]==1 and (M3f['Stab3'][i,j]==3 or M3f['Stab3'][i,j]==2):\n",
    "            CombMatF[i,j]=5 # ---------------------------------------> M1,bis\n",
    "        elif M3f['Stab3'][i,j]==1 and (M1f['Stab1'][i,j]==3 or M1f['Stab1'][i,j]==2):\n",
    "            CombMatF[i,j]=6 # ---------------------------------------> M3,bis\n",
    "        elif M1f['Stab1'][i,j]==1 and M3f['Stab3'][i,j]==1:\n",
    "            CombMatF[i,j]=7 # ---------------------------------------> M1,bis; M3,bis\n",
    "\n",
    "\n",
    "\n",
    "randomF_IPTG = [0.83, 0.1, 0.76, 0.1, 0.25, 0.08, 0.6, 0.12, 0.74, 0.5, 0.94, 0.78]\n",
    "randomF_aTc = [10, 47, 86, 7, 23, 14, 18, 6, 16, 39, 51, 43]\n"
   ]
  },
  {
   "cell_type": "markdown",
   "metadata": {},
   "source": [
    "## In script FrequentistBisstabilitySimulationAnalysis"
   ]
  },
  {
   "cell_type": "code",
   "execution_count": null,
   "metadata": {},
   "outputs": [],
   "source": [
    "for h in range(0,len(randomF_IPTG)):\n",
    "    for i in range(0,101):\n",
    "        for j in range(0,101):\n",
    "            if round(IPTG[i],2) == round(randomF_IPTG[h],2) and round(aTc[j]) == (randomF_aTc[h]):\n",
    "                CombMatF[i,j] = 8"
   ]
  },
  {
   "cell_type": "code",
   "execution_count": null,
   "metadata": {},
   "outputs": [],
   "source": [
    "normF=plt.Normalize(1,8)\n",
    "\n",
    "cmapF2 = matplotlib.colors.LinearSegmentedColormap.from_list(\"\", [\"#70dfa4\",\"#d3436e\",\"#febb81\",\n",
    "                                                               \"#f8765c\",\"#5f187f\",\"#982d80\",\"#221150\",\"#ffffff\"])\n"
   ]
  },
  {
   "cell_type": "markdown",
   "metadata": {},
   "source": [
    "Bayesian"
   ]
  },
  {
   "cell_type": "code",
   "execution_count": null,
   "metadata": {},
   "outputs": [],
   "source": [
    "M1bRep = M1b\n",
    "M2bRep = M2b\n",
    "M3bRep = M3b\n",
    "\n",
    "for i in range(0,101):\n",
    "    for j in range(0,101):\n",
    "        if M1bRep['BStab1'][i,j]==0 or M1bRep['BStab1'][i,j]==float('NaN'):\n",
    "            if list(np.mean(M1b['Bvals1'][i,j],0)[0][0])==[]:\n",
    "                M1bRep['BStab1'][i,j]=2\n",
    "            elif list(np.mean(M1b['Bvals1'][i,j],0)[0][0] == max(np.mean(M1b['Bvals1'][i,j],0)[0]))[0]:\n",
    "                M1bRep['BStab1'][i,j]=2\n",
    "            else:\n",
    "                M1bRep['BStab1'][i,j]=3\n",
    "                \n",
    "        if M2bRep['BStab2'][i,j]==0 or M2bRep['BStab2'][i,j]==float('NaN'):\n",
    "            if list(np.mean(M2b['Bvals2'][i,j],0)[0][0])==[]:\n",
    "                M2bRep['BStab2'][i,j]=2\n",
    "            elif list(np.mean(M2b['Bvals2'][i,j],0)[0][0] == max(np.mean(M2b['Bvals2'][i,j],0)[0]))[0]:\n",
    "                M2bRep['BStab2'][i,j]=2\n",
    "            else:\n",
    "                M2bRep['BStab2'][i,j]=3\n",
    "                \n",
    "        if M3bRep['BStab3'][i,j]==0 or M3bRep['BStab3'][i,j]==float('NaN'):\n",
    "            if list(np.mean(M3b['Bvals3'][i,j],0)[0][0])==[]:\n",
    "                M3bRep['BStab3'][i,j]=2\n",
    "            elif list(np.mean(M3b['Bvals3'][i,j],0)[0][0] == max(np.mean(M3b['Bvals3'][i,j],0)[0]))[0]:\n",
    "                M3bRep['BStab3'][i,j]=2\n",
    "            else:\n",
    "                M3bRep['BStab3'][i,j]=3"
   ]
  },
  {
   "cell_type": "code",
   "execution_count": null,
   "metadata": {},
   "outputs": [],
   "source": [
    "norm=plt.Normalize(0,3)\n",
    "cmap = matplotlib.colors.LinearSegmentedColormap.from_list(\"\", [\"#FFFCE1\",\"#FFE500\",\"#FE5C51\",\"#A9E367\"])"
   ]
  },
  {
   "cell_type": "code",
   "execution_count": null,
   "metadata": {},
   "outputs": [],
   "source": [
    "fig = plt.figure(figsize=(13.7, 3.5), dpi = 250)\n",
    "sns.set_context(\"paper\", rc={\"font.size\":8,\"axes.titlesize\":8,\"axes.labelsize\":8,\"axes.tickslabelssize\":8,\"text.usetex\" : True,\"text.latex.unicode\" : True})  \n",
    "gs = gridspec.GridSpec(1, 3, hspace = 1.5)\n",
    "\n",
    "\n",
    "ax1 = plt.subplot(gs[0, 0])\n",
    "ax1.pcolor(aTc, IPTG, M1b['BStab1'], cmap=cmap, norm=norm)\n",
    "ax1.set_xlabel('aTc (ng/ml)')\n",
    "ax1.set_ylabel('IPTG (nM)')\n",
    "ax1.set_title('Model 1')\n",
    "\n",
    "ax2 = plt.subplot(gs[0, 1])\n",
    "ax2.pcolor(aTc, IPTG, M2b['BStab2'], cmap=cmap, norm=norm)\n",
    "ax2.set_xlabel('aTc (ng/ml)')\n",
    "ax2.set_title('Model 2')\n",
    "\n",
    "\n",
    "ax3 = plt.subplot(gs[0, 2])\n",
    "ax3.pcolor(aTc, IPTG, M3b['BStab3'], cmap=cmap, norm=norm)\n",
    "ax3.set_xlabel('aTc (ng/ml)')\n",
    "ax3.set_title('Model 3')\n",
    "\n",
    "plt.show()"
   ]
  },
  {
   "cell_type": "markdown",
   "metadata": {},
   "source": [
    "## In script BiStabilityAnalysisAverage"
   ]
  },
  {
   "cell_type": "code",
   "execution_count": null,
   "metadata": {},
   "outputs": [],
   "source": [
    "CombMatB = np.zeros(M1b['BStab1'].shape)\n",
    "for i in range(0,101):\n",
    "    for j in range(0,101):\n",
    "        if M2b['BStab2'][i,j] <= 1:\n",
    "            CombMatB[i,j] = M2b['BStab2'][i,j] # ---------------------------------------> M2,bis\n",
    "        elif M1b['BStab1'][i,j] == 2 and M2b['BStab2'][i,j] == 2:\n",
    "            CombMatB[i,j] = 2 # ---------------------------------------> M1,RFP; M2,RFP\n",
    "        elif M1b['BStab1'][i,j] == 3 and M2b['BStab2'][i,j] == 3:\n",
    "            CombMatB[i,j] = 3 # ---------------------------------------> M1,GFP; M2,GFP\n",
    "        elif (M1b['BStab1'][i,j] == 2 and M2b['BStab2'][i,j] == 3) or (M1b['BStab1'][i,j] == 3 and M2b['BStab2'][i,j] == 2):\n",
    "            CombMatB[i,j] = 4 # ---------------------------------------> M1,GFP; M2,RFP\n",
    "\n",
    "\n",
    "randomB_IPTG = [0.85,0.10,0.20,0.64,0.80,0.25,0.84,0.38,0.08]\n",
    "randomB_aTc = [5,0,50,68,26,11,14,6,1]\n"
   ]
  },
  {
   "cell_type": "code",
   "execution_count": null,
   "metadata": {},
   "outputs": [],
   "source": [
    "for h in range(0,len(randomB_IPTG)):\n",
    "    for i in range(0,101):\n",
    "        for j in range(0,101):\n",
    "            if IPTG[i] == randomB_IPTG[h] and aTc[j] == randomB_aTc[h]:\n",
    "                CombMatB[i,j] = 5"
   ]
  },
  {
   "cell_type": "code",
   "execution_count": null,
   "metadata": {},
   "outputs": [],
   "source": [
    "normB=plt.Normalize(0,5)\n",
    "\n",
    "cmapB2 = matplotlib.colors.LinearSegmentedColormap.from_list(\"\", [\"#5f187f\",\"#982d80\",\"#d3436e\",\"#febb81\",\"#f8765c\",\n",
    "                                                               \"#ffffff\"])\n",
    "\n",
    "\n",
    "cmapF2 = matplotlib.colors.LinearSegmentedColormap.from_list(\"\", [\"#70dfa4\",\"#d3436e\",\"#febb81\",\n",
    "                                                               \"#f8765c\",\"#5f187f\",\"#982d80\",\"#221150\",\"#ffffff\"])\n"
   ]
  },
  {
   "cell_type": "code",
   "execution_count": null,
   "metadata": {},
   "outputs": [],
   "source": [
    "plt.figure(dpi=400)\n",
    "plt.pcolor(aTc, IPTG, CombMatB, cmap=cmapB2, norm=normB)\n",
    "plt.xlabel('aTc (ng/ml)')\n",
    "plt.ylabel('IPTG (nM)')\n",
    "plt.title('Model 1 vs Model 2')\n",
    "for j in range(0,len(randomB_aTc)):\n",
    "    plt.text(randomB_aTc[j], randomB_IPTG[j], '  '+str(j+1))\n",
    "    \n",
    "plt.show()"
   ]
  },
  {
   "cell_type": "markdown",
   "metadata": {},
   "source": [
    "## Utility/Cost function values"
   ]
  },
  {
   "cell_type": "markdown",
   "metadata": {},
   "source": [
    "Frequentist"
   ]
  },
  {
   "cell_type": "code",
   "execution_count": null,
   "metadata": {},
   "outputs": [],
   "source": [
    "CostsF = loadmat(\"/BistabilityAnalysis/BestFrecMult.mat\")"
   ]
  },
  {
   "cell_type": "code",
   "execution_count": null,
   "metadata": {},
   "outputs": [],
   "source": [
    "ran = abs(CostsF['RRan'][0])\n",
    "bes = np.array(abs(CostsF['RBt'][0][-1]))\n",
    "np.append(ran, bes)\n"
   ]
  },
  {
   "cell_type": "code",
   "execution_count": null,
   "metadata": {},
   "outputs": [],
   "source": [
    "xran1 = np.arange(13)\n",
    "plt.figure(dpi=200)\n",
    "plt.scatter(xran1, np.append(ran, bes))\n",
    "plt.scatter(list(np.append(ran, bes)).index(max(np.append(ran, bes))), \n",
    "        max(np.append(ran, bes)))\n",
    "plt.xticks(xran1, ('GFP1','RFP1','RFP2','Both Bistable','M1Bi1','M1Bi2','M3Bi1','M3Bi2','Disc1','Disc2','Disc3','Disc4',\n",
    "                   'OEDBest'))\n",
    "plt.yscale('log')\n",
    "plt.ylabel('Cost (Multiplicative)')\n",
    "plt.xticks(rotation=45)\n",
    "plt.show()"
   ]
  },
  {
   "cell_type": "markdown",
   "metadata": {},
   "source": [
    "Bayesian"
   ]
  },
  {
   "cell_type": "code",
   "execution_count": null,
   "metadata": {},
   "outputs": [],
   "source": [
    "# Order of points\n",
    "\n",
    "ranInput = [[round(0.85, 2)+1e-7, int(5)+1e-7], \n",
    "            [round(0.10, 2)+1e-7, int(0)+1e-7], \n",
    "            [round(0.20, 2)+1e-7, int(50)+1e-7], \n",
    "            [round(0.64, 2)+1e-7, int(68)+1e-7], \n",
    "            [round(0.80, 2)+1e-7, int(26)+1e-7], \n",
    "            [round(0.25, 2)+1e-7, int(11)+1e-7], \n",
    "            [round(0.84, 2)+1e-7, int(14)+1e-7], \n",
    "            [round(0.38, 2)+1e-7, int(6)+1e-7], \n",
    "            [round(0.08, 2)+1e-7, int(1)+1e-7]] "
   ]
  },
  {
   "cell_type": "code",
   "execution_count": null,
   "metadata": {},
   "outputs": [],
   "source": [
    "df = pd.read_pickle('/BistabilityAnalysis/RandomUtility.pkl')\n",
    "ranres = df['RandomUtility'][0]\n",
    "\n",
    "df = pd.read_pickle('/BistabilityAnalysis/HalfBistUtility.pkl')\n",
    "halres = df['HalfBistUtility'][0]\n",
    "\n",
    "df = pd.read_pickle('/BistabilityAnalysis/DecompUtility.pkl')\n",
    "decres = df['DecompOEDUtility'][0]\n",
    "\n",
    "df = pd.read_pickle('/BistabilityAnalysis/BestUtility.pkl')\n",
    "bestres = df['BestOEDUtility'][0]"
   ]
  },
  {
   "cell_type": "code",
   "execution_count": null,
   "metadata": {},
   "outputs": [],
   "source": [
    "xran1 = np.arange(10)\n",
    "plt.figure(dpi=200)\n",
    "plt.scatter(xran1, np.concatenate([ranres, bestres]))\n",
    "plt.scatter(list(np.concatenate([ranres, bestres])).index(max(np.concatenate([ranres, bestres]))), \n",
    "        max(np.concatenate([ranres, bestres])))\n",
    "plt.xticks(xran1, ('GFP1', 'GFP2', 'RFP1', 'RFP2', 'Disc1', 'Disc2', 'M2Bi1', 'M2Bi2', 'M2Bi3',\n",
    "                   'OEDBest'))\n",
    "plt.yscale('log')\n",
    "plt.ylabel('Utility (Multiplicative)')\n",
    "plt.xticks(rotation=45)\n",
    "plt.show()"
   ]
  },
  {
   "cell_type": "markdown",
   "metadata": {},
   "source": [
    "## Plot"
   ]
  },
  {
   "cell_type": "code",
   "execution_count": null,
   "metadata": {},
   "outputs": [],
   "source": [
    "randomF_IPTG = [0.83, 0.1, 0.76, 0.1, 0.25, 0.08, 0.6, 0.12, 0.74, 0.5, 0.94, 0.78]\n",
    "randomF_aTc = [10, 47, 86, 7, 23, 14, 18, 6, 16, 39, 51, 43]\n",
    "\n",
    "randomB_IPTG = [0.85,0.10,0.20,0.64,0.80,0.25,0.84,0.38,0.08]\n",
    "randomB_aTc = [5,0,50,68,26,11,14,6,1]\n",
    "\n",
    "fig = plt.figure(figsize=(6.2, 6), dpi = 300)\n",
    "sns.set_context(\"paper\", rc={\"font.size\":8,\"axes.titlesize\":8,\"axes.labelsize\":8,\"axes.tickslabelssize\":8,\"text.usetex\" : True,\"text.latex.unicode\" : True})  \n",
    "gs = gridspec.GridSpec(4, 4)\n",
    "\n",
    "ax1 = plt.subplot(gs[0:2, 0:2])\n",
    "ax1.pcolor(aTc, IPTG, CombMatF, cmap=cmapF2, norm=normF,linewidths = 0)\n",
    "\n",
    "\n",
    "ax1.plot([round(min(OEDFreA)), round(max(OEDFreA))+1],[IPTG[round(min(OEDFreI)*100)],IPTG[round(min(OEDFreI)*100)]],'w',linewidth = 1)\n",
    "ax1.plot([round(min(OEDFreA)), round(min(OEDFreA))],[IPTG[round(min(OEDFreI)*100)],IPTG[round(max(OEDFreI)*100)+1]],'w',linewidth = 1)\n",
    "ax1.plot([round(max(OEDFreA))+1, round(max(OEDFreA))+1],[IPTG[round(min(OEDFreI)*100)],IPTG[round(max(OEDFreI)*100)+1]],'w',linewidth = 1)\n",
    "ax1.plot([round(min(OEDFreA)), round(max(OEDFreA))+1],[IPTG[round(max(OEDFreI)*100)+1],IPTG[round(max(OEDFreI)*100)+1]],'w',linewidth = 1)\n",
    "\n",
    "\n",
    "ax1.set_xlabel('aTc (ng/ml)')\n",
    "ax1.set_ylabel('IPTG (mM)')\n",
    "ax1.set_title('Frequentist')\n",
    "ax1.tick_params(length=2)\n",
    "\n",
    "inds2 = [0,8,11,6,7,3,4,5,10,9,2,1]\n",
    "randomF_IPTG2 = [randomF_IPTG[inds2[i]] for i in range(0,len(randomF_IPTG))]\n",
    "randomF_aTc2 = [randomF_aTc[inds2[i]] for i in range(0,len(randomF_aTc))]\n",
    "ran2 = [ran[inds2[i]] for i in range(0,len(ran))]\n",
    "\n",
    "for j in range(0,len(randomF_aTc)):\n",
    "    ax1.text(randomF_aTc2[j], randomF_IPTG2[j], '  '+str(j+1),color = '#ffffff')\n",
    "\n",
    "ax2 = plt.subplot(gs[0:2, 2:4])\n",
    "ax2.pcolor(aTc, IPTG, CombMatB, cmap=cmapB2, norm=normB,linewidths=0)\n",
    "\n",
    "ax2.plot([round(min(OEDBayA)), round(max(OEDBayA))+1],[IPTG[round(min(OEDBayI)*100)],IPTG[round(min(OEDBayI)*100)]],'w',linewidth = 1)\n",
    "ax2.plot([round(min(OEDBayA)), round(min(OEDBayA))],[IPTG[round(min(OEDBayI)*100)],IPTG[round(max(OEDBayI)*100)+1]],'w',linewidth = 1)\n",
    "ax2.plot([round(max(OEDBayA))+1, round(max(OEDBayA))+1],[IPTG[round(min(OEDBayI)*100)],IPTG[round(max(OEDBayI)*100)+1]],'w',linewidth = 1)\n",
    "ax2.plot([round(min(OEDBayA)), round(max(OEDBayA))+1],[IPTG[round(max(OEDBayI)*100)+1],IPTG[round(max(OEDBayI)*100)+1]],'w',linewidth = 1)\n",
    "\n",
    "ax2.set_xlabel('aTc (ng/ml)')\n",
    "ax2.set_ylabel('IPTG (mM)')\n",
    "ax2.set_title('Bayesian')\n",
    "ax2.tick_params(length=2)\n",
    "\n",
    "\n",
    "inds = [0,1,6,7,8,4,5,3,2]\n",
    "randomB_IPTG2 = [randomB_IPTG[inds[i]] for i in range(0,len(randomB_IPTG))]\n",
    "randomB_aTc2 = [randomB_aTc[inds[i]] for i in range(0,len(randomB_aTc))]\n",
    "for j in range(0,len(randomB_aTc)):\n",
    "    ax2.text(randomB_aTc2[j], randomB_IPTG2[j], '  '+str(j+1),color = '#ffffff')\n",
    "\n",
    "\n",
    "ax3 = plt.subplot(gs[2, 0:2])\n",
    "ax3.spines['top'].set_visible(False)\n",
    "ax3.spines['right'].set_visible(False)\n",
    "xran1 = np.arange(13)\n",
    "ax3.scatter(xran1, np.append(ran2, bes),s=4,c ='black')\n",
    "\n",
    "\n",
    "ax3.bar(list(np.append(ran2, bes)).index(max(np.append(ran2, bes))), \n",
    "        max(np.append(ran2, bes))+0.9*max(np.append(ran2, bes)),color=\"#eeeeee\", alpha=0.3)\n",
    "\n",
    "\n",
    "\n",
    "plt.xticks(xran1, ('1','2','3','4','5','6','7','8','9','10','11','12',\n",
    "                   'OED'))\n",
    "ax3.set_yscale('log')\n",
    "ax3.set_ylabel('Cost')\n",
    "plt.xticks(rotation=30)\n",
    "\n",
    "ax3.tick_params(length=2)\n",
    "\n",
    "\n",
    "\n",
    "ax4 = plt.subplot(gs[2, 2:4])\n",
    "xran1 = np.arange(10)\n",
    "\n",
    "inds = [0,1,6,7,8,4,5,3,2]\n",
    "ranres2 = [ranres[inds[i]] for i in range(0,len(ranres))]\n",
    "\n",
    "ax4.scatter(xran1, np.concatenate([ranres2, bestres]),s=4,c ='black')\n",
    "\n",
    "ax4.bar(list(np.concatenate([ranres2, bestres])).index(max(np.concatenate([ranres2, bestres]))), \n",
    "        max(np.concatenate([ranres2, bestres]))+0.9*max(np.concatenate([ranres2, bestres])),color=\"#eeeeee\", alpha=0.3)\n",
    "\n",
    "plt.xticks(xran1, ('1', '2', '3', '4', '5', '6', '7', '8', '9',\n",
    "                   'OED'))\n",
    "\n",
    "ax4.set_yscale('log')\n",
    "ax4.set_ylabel('Utility')\n",
    "ax4.spines['top'].set_visible(False)\n",
    "ax4.spines['right'].set_visible(False)\n",
    "ax4.tick_params(length=2)\n",
    "\n",
    "plt.xticks(rotation=30)\n",
    "\n",
    "\n",
    "plt.show()\n"
   ]
  }
 ],
 "metadata": {
  "kernelspec": {
   "display_name": "Python 3",
   "language": "python",
   "name": "python3"
  },
  "language_info": {
   "codemirror_mode": {
    "name": "ipython",
    "version": 3
   },
   "file_extension": ".py",
   "mimetype": "text/x-python",
   "name": "python",
   "nbconvert_exporter": "python",
   "pygments_lexer": "ipython3",
   "version": "3.6.10"
  }
 },
 "nbformat": 4,
 "nbformat_minor": 4
}
