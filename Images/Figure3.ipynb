{
 "cells": [
  {
   "cell_type": "markdown",
   "metadata": {},
   "source": [
    "# Figure 3 - Main text"
   ]
  },
  {
   "cell_type": "markdown",
   "metadata": {},
   "source": [
    "### Load required libraries"
   ]
  },
  {
   "cell_type": "code",
   "execution_count": null,
   "metadata": {},
   "outputs": [],
   "source": [
    "import numpy as np\n",
    "import matplotlib.pyplot as plt\n",
    "import pandas as pd\n",
    "import seaborn as sns\n",
    "import pickle\n",
    "from scipy.io import loadmat\n",
    "import seaborn as sns\n",
    "import matplotlib.ticker\n",
    "import matplotlib.gridspec as gridspec\n",
    "\n",
    "from multiprocessing import Pool\n",
    "import multiprocessing as mp\n"
   ]
  },
  {
   "cell_type": "markdown",
   "metadata": {},
   "source": [
    "### Load model comparison results"
   ]
  },
  {
   "cell_type": "markdown",
   "metadata": {},
   "source": [
    "Bayesian"
   ]
  },
  {
   "cell_type": "code",
   "execution_count": null,
   "metadata": {},
   "outputs": [],
   "source": [
    "lnEvidenceReorg= pd.read_csv('Multi_lnModelEvidence_Reorganised.csv', delimiter=\",\")\n",
    "lnEvidenceReorg['LogEvidence'] = lnEvidenceReorg['lnEvidence']/2.303\n",
    "lnEvidenceReorg['LogEvidenceNormFactor'] = lnEvidenceReorg['LogEvidence'][0:10]\n",
    "lnEvidenceReorg['LogEvidenceNormFactor'][10:20] = lnEvidenceReorg['LogEvidence'][0:10]\n",
    "lnEvidenceReorg['LogEvidenceNormFactor'][20:30] = lnEvidenceReorg['LogEvidence'][0:10]\n",
    "#lnEvidenceReorg['LogEvidenceNormFactor'][0:10] = lnEvidenceReorg['LogEvidence'][0:10]\n",
    "lnEvidenceReorg['LogEvidenceNorm'] = lnEvidenceReorg['LogEvidenceNormFactor']-lnEvidenceReorg['LogEvidence']"
   ]
  },
  {
   "cell_type": "markdown",
   "metadata": {},
   "source": [
    "Frequentist"
   ]
  },
  {
   "cell_type": "code",
   "execution_count": null,
   "metadata": {},
   "outputs": [],
   "source": [
    "# Extract results from mat files\n",
    "pM1f = loadmat(\"AMIGOStatsModel1.mat\")\n",
    "strut = pM1f['statsM1']['AkaikeInformationCrit'][0][0:10]\n",
    "AICM1 = np.zeros(10)\n",
    "for i in range(0,10):\n",
    "    AICM1[i] = strut[i][0][0][0][0][0]\n",
    "    \n",
    "pM2f = loadmat(\"AMIGOStatsModel2.mat\")\n",
    "strut = pM2f['statsM2']['AkaikeInformationCrit'][0][0:10]\n",
    "AICM2 = np.zeros(10)\n",
    "for i in range(0,10):\n",
    "    AICM2[i] = strut[i][0][0][0][0][0]\n",
    "    \n",
    "pM3f = loadmat(\"AMIGOStatsModel3.mat\")\n",
    "strut = pM3f['statsM3']['AkaikeInformationCrit'][0][0:10]\n",
    "AICM3 = np.zeros(10)\n",
    "for i in range(0,10):\n",
    "    AICM3[i] = strut[i][0][0][0][0][0]"
   ]
  },
  {
   "cell_type": "code",
   "execution_count": null,
   "metadata": {},
   "outputs": [],
   "source": [
    "# Construct data frame with results\n",
    "AICFrec = pd.DataFrame({'Model' : [], 'ExpName': [], 'AIC': [], 'logAIC': [], 'normAIC': [], 'normLogAIC': []})\n",
    "AICFrec['Model'] = lnEvidenceReorg['Model']\n",
    "AICFrec['ExpName'] = lnEvidenceReorg['ExpName']\n",
    "AICFrec['AIC'][0:10] = AICM1\n",
    "AICFrec['AIC'][10:20] = AICM2\n",
    "AICFrec['AIC'][20:30] = AICM3\n",
    "AICFrec['logAIC'] = np.log(AICFrec['AIC'])\n",
    "for i in range(0,10):\n",
    "    AICFrec['normAIC'][i] = AICFrec['AIC'][i]/AICFrec['AIC'][i]\n",
    "    AICFrec['normAIC'][i+10] = AICFrec['AIC'][i+10]/AICFrec['AIC'][i]\n",
    "    AICFrec['normAIC'][i+20] = AICFrec['AIC'][i+20]/AICFrec['AIC'][i]\n",
    "    \n",
    "for i in range(0,10):\n",
    "    AICFrec['normLogAIC'][i] = AICFrec['logAIC'][i]-AICFrec['logAIC'][i]\n",
    "    AICFrec['normLogAIC'][i+10] = AICFrec['logAIC'][i+10]-AICFrec['logAIC'][i]\n",
    "    AICFrec['normLogAIC'][i+20] = AICFrec['logAIC'][i+20]-AICFrec['logAIC'][i]\n",
    "    "
   ]
  },
  {
   "cell_type": "markdown",
   "metadata": {},
   "source": [
    "## Plot"
   ]
  },
  {
   "cell_type": "code",
   "execution_count": null,
   "metadata": {},
   "outputs": [],
   "source": [
    "fig = plt.figure(figsize=(5.8, 3.2), dpi = 600)\n",
    "sns.set_context(\"paper\", rc={\"font.size\":8,\"axes.titlesize\":8,\"axes.labelsize\":8,\"axes.tickslabelssize\":8,\"text.usetex\" : True,\"text.latex.unicode\" : True})  \n",
    "#pal = dict(alpha1='#fff7f3', Vm1 = '#fde0dd',h1 = '#fcc5c0', Km1 = '#fa9fb5', d1 ='#f768a1' , alpha2 = '#dd3497', d2 ='#ae017e' ,Kf='#7a0177' )\n",
    "\n",
    "\n",
    "\n",
    "gs = gridspec.GridSpec(2, 3)\n",
    "#------> Barplot total model evidence\n",
    "pal1 = dict(M1='#ffffff',M2 = '#f4376d',M3 = '#25f0e0')\n",
    "#dict(S='#5e3c99', P = '#b2abd2',R = '#fdb863', O = '#fcbba1')#8dd3c7\n",
    "#ffffb3\n",
    "\n",
    "#------> Barplot total model evidence\n",
    "\n",
    "ax1 = plt.subplot(gs[0, 0::])\n",
    "ax1 = sns.barplot(data = lnEvidenceReorg,x='ExpName', y='LogEvidenceNorm', hue = 'Model',palette = pal1,edgecolor = 'black',errwidth = 0.8,alpha=.8)\n",
    "ax1.spines['top'].set_visible(False)\n",
    "ax1.spines['right'].set_visible(False)\n",
    "ax1.tick_params(length=2)\n",
    "ax1.set_xticklabels((r'$E_{c1}$',r'$E_{c2}$',r'$E_{c3}$',r'$E_{d1}$',r'$E_{d2}$',r'$E_{d3}$',r'$E_{d4}$',r'$E_{d5}$',r'$E_{d6}$',r'$E_{d7}$'))\n",
    "ax1.set_xlabel('Experiment')\n",
    "ax1.set_ylabel(r'$Log(Evidence)$ (-)',rotation = 90)\n",
    "\n",
    "#------> Barplot total AIC\n",
    "ax2 = plt.subplot(gs[1, 0::])\n",
    "\n",
    "ax2 = sns.barplot(data = AICFrec,x='ExpName', y='normLogAIC', hue = 'Model',palette = pal1,edgecolor = 'black',errwidth = 0.8,alpha=.8)\n",
    "\n",
    "ax2.spines['top'].set_visible(False)\n",
    "ax2.spines['right'].set_visible(False)\n",
    "ax2.tick_params(length=2)\n",
    "ax2.set_xticklabels((r'$E_{c1}$',r'$E_{c2}$',r'$E_{c3}$',r'$E_{d1}$',r'$E_{d2}$',r'$E_{d3}$',r'$E_{d4}$',r'$E_{d5}$',r'$E_{d6}$',r'$E_{d7}$'))\n",
    "ax2.set_xlabel('Experiment')\n",
    "ax2.set_ylabel(r'$Log(AIC)(-)$ ',rotation = 90)\n",
    "# ax2.set_ylim([-0.25,2])\n",
    "plt.show()\n"
   ]
  },
  {
   "cell_type": "code",
   "execution_count": null,
   "metadata": {},
   "outputs": [],
   "source": []
  }
 ],
 "metadata": {
  "kernelspec": {
   "display_name": "Python 3",
   "language": "python",
   "name": "python3"
  },
  "language_info": {
   "codemirror_mode": {
    "name": "ipython",
    "version": 3
   },
   "file_extension": ".py",
   "mimetype": "text/x-python",
   "name": "python",
   "nbconvert_exporter": "python",
   "pygments_lexer": "ipython3",
   "version": "3.6.10"
  }
 },
 "nbformat": 4,
 "nbformat_minor": 4
}
