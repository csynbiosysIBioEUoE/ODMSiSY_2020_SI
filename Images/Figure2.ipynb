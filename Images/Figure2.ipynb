{
 "cells": [
  {
   "cell_type": "markdown",
   "metadata": {},
   "source": [
    "## Figure 2 - Main text"
   ]
  },
  {
   "cell_type": "markdown",
   "metadata": {},
   "source": [
    "### Load required libraries"
   ]
  },
  {
   "cell_type": "code",
   "execution_count": null,
   "metadata": {},
   "outputs": [],
   "source": [
    "import numpy as np\n",
    "import matplotlib.pyplot as plt\n",
    "import pandas as pd\n",
    "import seaborn as sns\n",
    "import pickle\n",
    "from scipy.io import loadmat\n",
    "import seaborn as sns\n",
    "import matplotlib.ticker\n",
    "import matplotlib.gridspec as gridspec\n",
    "\n",
    "from multiprocessing import Pool\n",
    "import multiprocessing as mp\n"
   ]
  },
  {
   "cell_type": "markdown",
   "metadata": {},
   "source": [
    "### Load posteriors and PE results"
   ]
  },
  {
   "cell_type": "code",
   "execution_count": null,
   "metadata": {},
   "outputs": [],
   "source": [
    "# Bayesian\n",
    "pM1b = np.asarray(pd.read_csv(\"ParametersCSV/draws_ALL_Model1.csv\"))\n",
    "pM2b = np.asarray(pd.read_csv(\"ParametersCSV/draws_ALL_Model2.csv\"))\n",
    "pM3b = np.asarray(pd.read_csv(\"ParametersCSV/draws_ALL_Model3.csv\"))\n",
    "\n",
    "# Frequentist\n",
    "pM1f = loadmat(\"ParametersCSV/BestPEM1.mat\")\n",
    "pM2f = loadmat(\"ParametersCSV/BestPEM2.mat\")\n",
    "pM3f = loadmat(\"ParametersCSV/BestPEM3.mat\")\n"
   ]
  },
  {
   "cell_type": "code",
   "execution_count": null,
   "metadata": {},
   "outputs": [],
   "source": [
    "# Bayesian\n",
    "muB1 = np.mean(pM1b,0)\n",
    "covB1 = np.cov(np.matrix.transpose(pM1b))\n",
    "\n",
    "muB2 = np.mean(pM2b,0)\n",
    "covB2 = np.cov(np.matrix.transpose(pM2b))\n",
    "\n",
    "muB3 = np.mean(pM3b,0)\n",
    "covB3 = np.cov(np.matrix.transpose(pM3b))\n",
    "\n",
    "# Frequentist\n",
    "muF1 = pM1f['bm1']['pe_results'][0,0]['fit'][0,0]['thetabest'][0,0].reshape(1,16)[0]\n",
    "covF1 = pM1f['bm1']['pe_results'][0,0]['fit'][0,0]['g_var_cov_mat'][0,0]\n",
    "\n",
    "muF2 = pM2f['bm2']['pe_results'][0,0]['fit'][0,0]['thetabest'][0,0].reshape(1,14)[0]\n",
    "covF2 = pM2f['bm2']['pe_results'][0,0]['fit'][0,0]['g_var_cov_mat'][0,0]\n",
    "\n",
    "muF3 = pM3f['bm3']['pe_results'][0,0]['fit'][0,0]['thetabest'][0,0].reshape(1,14)[0]\n",
    "covF3 = pM3f['bm3']['pe_results'][0,0]['fit'][0,0]['g_var_cov_mat'][0,0]\n",
    "\n"
   ]
  },
  {
   "cell_type": "markdown",
   "metadata": {},
   "source": [
    "### Definition of the Bhattacharyya distance and selection of the best and forst case"
   ]
  },
  {
   "cell_type": "code",
   "execution_count": null,
   "metadata": {},
   "outputs": [],
   "source": [
    "def BhattacharyyaDist (mu1, mu2, sd1, sd2):\n",
    "    \n",
    "    t1 = (mu1-mu2)**2\n",
    "    Em1 = (sd1**2)+(sd2**2)\n",
    "    \n",
    "    co1 = (sd1**2)/(sd2**2)\n",
    "    co2 = (sd2**2)/(sd1**2)\n",
    "    \n",
    "    \n",
    "    ft = (1/4)*(t1/Em1)\n",
    "    st = (1/4)*(co1+co2+2)\n",
    "    \n",
    "    bhd = ft+0.25*np.log(st)\n",
    "    \n",
    "    return(float(bhd))"
   ]
  },
  {
   "cell_type": "markdown",
   "metadata": {},
   "source": [
    "#### Model 1"
   ]
  },
  {
   "cell_type": "code",
   "execution_count": null,
   "metadata": {},
   "outputs": [],
   "source": [
    "# Compute distribution distances\n",
    "BDM1 = np.zeros(16)\n",
    "for i in range(0,16):\n",
    "    BDM1[i] = BhattacharyyaDist(muB1[i], muF1[i], np.sqrt(covB1[i,i]), np.sqrt(covF1[i,i]))\n",
    "    \n",
    "# Best and worst cases\n",
    "BeM1 = list(BDM1).index(min(BDM1))\n",
    "WoM1 = list(BDM1).index(max(BDM1))"
   ]
  },
  {
   "cell_type": "code",
   "execution_count": null,
   "metadata": {},
   "outputs": [],
   "source": [
    "sdsM1 = np.zeros(16)\n",
    "for i in range(0,16):\n",
    "    sdsM1[i] = np.sqrt(covF1[i,i])"
   ]
  },
  {
   "cell_type": "code",
   "execution_count": null,
   "metadata": {},
   "outputs": [],
   "source": [
    "WoM1 = list(sdsM1).index(max(sdsM1))"
   ]
  },
  {
   "cell_type": "markdown",
   "metadata": {},
   "source": [
    "#### Model 2"
   ]
  },
  {
   "cell_type": "code",
   "execution_count": null,
   "metadata": {},
   "outputs": [],
   "source": [
    "# Compute distribution distances\n",
    "BDM2 = np.zeros(14)\n",
    "for i in range(0,14):\n",
    "    BDM2[i] = BhattacharyyaDist(muB2[i], muF2[i], np.sqrt(covB2[i,i]), np.sqrt(covF2[i,i]))\n",
    "    \n",
    "# Best and worst cases\n",
    "BeM2 = list(BDM2).index(min(BDM2))\n",
    "WoM2 = list(BDM2).index(max(BDM2))"
   ]
  },
  {
   "cell_type": "code",
   "execution_count": null,
   "metadata": {},
   "outputs": [],
   "source": [
    "sdsM2 = np.zeros(14)\n",
    "for i in range(0,14):\n",
    "    sdsM2[i] = np.sqrt(covF2[i,i])\n",
    "WoM2 = list(sdsM2).index(max(sdsM2))"
   ]
  },
  {
   "cell_type": "markdown",
   "metadata": {},
   "source": [
    "#### Model 3"
   ]
  },
  {
   "cell_type": "code",
   "execution_count": null,
   "metadata": {},
   "outputs": [],
   "source": [
    "# Compute distribution distances\n",
    "BDM3 = np.zeros(14)\n",
    "for i in range(0,14):\n",
    "    BDM3[i] = BhattacharyyaDist(muB3[i], muF3[i], np.sqrt(covB3[i,i]), np.sqrt(covF3[i,i]))\n",
    "    \n",
    "# Best and worst cases\n",
    "BeM3 = list(BDM3).index(min(BDM3))\n",
    "WoM3 = list(BDM3).index(max(BDM3))"
   ]
  },
  {
   "cell_type": "code",
   "execution_count": null,
   "metadata": {},
   "outputs": [],
   "source": [
    "sdsM3 = np.zeros(14)\n",
    "for i in range(0,14):\n",
    "    sdsM3[i] = np.sqrt(covF3[i,i])\n",
    "WoM3 = list(sdsM3).index(max(sdsM3))"
   ]
  },
  {
   "cell_type": "markdown",
   "metadata": {},
   "source": [
    "### Plot individual Distributions for comparison"
   ]
  },
  {
   "cell_type": "markdown",
   "metadata": {},
   "source": [
    "#### Model 1"
   ]
  },
  {
   "cell_type": "code",
   "execution_count": null,
   "metadata": {},
   "outputs": [],
   "source": [
    "M1Thetanams = ['k_in_IPTG ',\n",
    "    'k_out_IPTG',\n",
    "    'k_in_aTc  ',\n",
    "    'k_out_aTc ',\n",
    "    'kL_p_m0   ',\n",
    "    'kL_p_m    ',\n",
    "    'theta_T   ',\n",
    "    'theta_aTc ',\n",
    "    'n_aTc     ',\n",
    "    'n_T       ',\n",
    "    'kT_p_m0   ',\n",
    "    'kT_p_m    ',\n",
    "    'theta_L   ',\n",
    "    'theta_IPTG',\n",
    "    'n_IPTG    ',\n",
    "    'n_L       ']"
   ]
  },
  {
   "cell_type": "code",
   "execution_count": null,
   "metadata": {},
   "outputs": [],
   "source": [
    "# Model 1\n",
    "fig = plt.figure(figsize=(5.7, 4.5), dpi = 250)\n",
    "sns.set_context(\"paper\", rc={\"font.size\":8,\"axes.titlesize\":8,\"axes.labelsize\":8,\"axes.tickslabelssize\":8,\"text.usetex\" : True,\"text.latex.unicode\" : True})  \n",
    "gs = gridspec.GridSpec(1, 2, hspace = 1.5)\n",
    "\n",
    "s = np.random.normal(muF1[BeM1], np.sqrt(covF1[BeM1,BeM1]), 1000)\n",
    "\n",
    "ax1 = plt.subplot(gs[0, 0])\n",
    "sns.distplot(pM1b[:,BeM1], hist=False, rug=False, label = 'Bayesian');\n",
    "sns.distplot(s, hist=False, rug=False, label = 'Frequentist');\n",
    "ax1.tick_params(length=1.5)\n",
    "ax1.set_ylabel('GFP (AU)')\n",
    "ax1.set_xlabel('time (min)')\n",
    "ax1.spines['top'].set_visible(False)\n",
    "ax1.spines['right'].set_visible(False)\n",
    "ax1.set_xlabel(M1Thetanams[BeM1])\n",
    "ax1.set_title('Best')\n",
    "ax1.legend()\n",
    "\n",
    "s = np.random.normal(muF1[WoM1], np.sqrt(covF1[WoM1,WoM1]), 1000)\n",
    "ax2 = plt.subplot(gs[0, 1])\n",
    "sns.distplot(pM1b[:,WoM1], hist=False, rug=False, label = 'Bayesian');\n",
    "sns.distplot(s, hist=False, rug=False, label = 'Frequentist');\n",
    "ax2.tick_params(length=1.5)\n",
    "ax2.set_ylabel('GFP (AU)')\n",
    "ax2.set_xlabel('time (min)')\n",
    "ax2.spines['top'].set_visible(False)\n",
    "ax2.spines['right'].set_visible(False)\n",
    "ax2.set_xlabel(M1Thetanams[WoM1])\n",
    "ax2.set_title('Worst')\n",
    "ax2.legend()\n",
    "\n",
    "plt.show()"
   ]
  },
  {
   "cell_type": "markdown",
   "metadata": {},
   "source": [
    "#### Model 2"
   ]
  },
  {
   "cell_type": "code",
   "execution_count": null,
   "metadata": {},
   "outputs": [],
   "source": [
    "M23Thetanams = ['k_IPTG ',\n",
    "    'k_aTc  ',\n",
    "    'kL_p_m0   ',\n",
    "    'kL_p_m    ',\n",
    "    'theta_T   ',\n",
    "    'theta_aTc ',\n",
    "    'n_aTc     ',\n",
    "    'n_T       ',\n",
    "    'kT_p_m0   ',\n",
    "    'kT_p_m    ',\n",
    "    'theta_L   ',\n",
    "    'theta_IPTG',\n",
    "    'n_IPTG    ',\n",
    "    'n_L       ']"
   ]
  },
  {
   "cell_type": "code",
   "execution_count": null,
   "metadata": {},
   "outputs": [],
   "source": [
    "# Model 2\n",
    "fig = plt.figure(figsize=(5.7, 4.5), dpi = 250)\n",
    "sns.set_context(\"paper\", rc={\"font.size\":8,\"axes.titlesize\":8,\"axes.labelsize\":8,\"axes.tickslabelssize\":8,\"text.usetex\" : True,\"text.latex.unicode\" : True})  \n",
    "gs = gridspec.GridSpec(1, 2, hspace = 1.5)\n",
    "\n",
    "s = np.random.normal(muF2[BeM2], np.sqrt(covF2[BeM2,BeM2]), 1000)\n",
    "\n",
    "ax1 = plt.subplot(gs[0, 0])\n",
    "sns.distplot(pM2b[:,BeM2], hist=False, rug=False, label = 'Bayesian');\n",
    "sns.distplot(s, hist=False, rug=False, label = 'Frequentist');\n",
    "ax1.tick_params(length=1.5)\n",
    "ax1.set_ylabel('GFP (AU)')\n",
    "ax1.set_xlabel('time (min)')\n",
    "ax1.spines['top'].set_visible(False)\n",
    "ax1.spines['right'].set_visible(False)\n",
    "ax1.set_xlabel(M23Thetanams[BeM2])\n",
    "ax1.set_title('Best')\n",
    "ax1.legend()\n",
    "\n",
    "s = np.random.normal(muF2[WoM2], np.sqrt(covF2[WoM2,WoM2]), 1000)\n",
    "ax2 = plt.subplot(gs[0, 1])\n",
    "sns.distplot(pM2b[:,WoM2], hist=False, rug=False, label = 'Bayesian');\n",
    "sns.distplot(s, hist=False, rug=False, label = 'Frequentist');\n",
    "ax2.tick_params(length=1.5)\n",
    "ax2.set_ylabel('GFP (AU)')\n",
    "ax2.set_xlabel('time (min)')\n",
    "ax2.spines['top'].set_visible(False)\n",
    "ax2.spines['right'].set_visible(False)\n",
    "ax2.set_xlabel(M23Thetanams[WoM2])\n",
    "ax2.set_title('Worst')\n",
    "ax2.legend()\n",
    "\n",
    "plt.show()"
   ]
  },
  {
   "cell_type": "markdown",
   "metadata": {},
   "source": [
    "#### Model 3"
   ]
  },
  {
   "cell_type": "code",
   "execution_count": null,
   "metadata": {},
   "outputs": [],
   "source": [
    "# Model 3\n",
    "fig = plt.figure(figsize=(5.7, 4.5), dpi = 250)\n",
    "sns.set_context(\"paper\", rc={\"font.size\":8,\"axes.titlesize\":8,\"axes.labelsize\":8,\"axes.tickslabelssize\":8,\"text.usetex\" : True,\"text.latex.unicode\" : True})  \n",
    "gs = gridspec.GridSpec(1, 2, hspace = 1.5)\n",
    "\n",
    "s = np.random.normal(muF3[BeM3], np.sqrt(covF3[BeM3,BeM3]), 1000)\n",
    "\n",
    "ax1 = plt.subplot(gs[0, 0])\n",
    "sns.distplot(pM3b[:,BeM3], hist=False, rug=False, label = 'Bayesian');\n",
    "sns.distplot(s, hist=False, rug=False, label = 'Frequentist');\n",
    "ax1.tick_params(length=1.5)\n",
    "ax1.set_ylabel('GFP (AU)')\n",
    "ax1.set_xlabel('time (min)')\n",
    "ax1.spines['top'].set_visible(False)\n",
    "ax1.spines['right'].set_visible(False)\n",
    "ax1.set_xlabel(M23Thetanams[BeM3])\n",
    "ax1.set_title('Best')\n",
    "ax1.legend()\n",
    "\n",
    "s = np.random.normal(muF3[WoM3], np.sqrt(covF3[WoM3,WoM3]), 1000)\n",
    "ax2 = plt.subplot(gs[0, 1])\n",
    "sns.distplot(pM3b[:,WoM3], hist=False, rug=False, label = 'Bayesian');\n",
    "sns.distplot(s, hist=False, rug=False, label = 'Frequentist');\n",
    "ax2.tick_params(length=1.5)\n",
    "ax2.set_ylabel('GFP (AU)')\n",
    "ax2.set_xlabel('time (min)')\n",
    "ax2.spines['top'].set_visible(False)\n",
    "ax2.spines['right'].set_visible(False)\n",
    "ax2.set_xlabel(M23Thetanams[WoM3])\n",
    "ax2.set_title('Worst')\n",
    "ax2.legend()\n",
    "\n",
    "plt.show()"
   ]
  },
  {
   "cell_type": "markdown",
   "metadata": {},
   "source": [
    "#### Get distributions data"
   ]
  },
  {
   "cell_type": "code",
   "execution_count": null,
   "metadata": {},
   "outputs": [],
   "source": [
    "# Model 1\n",
    "dtM1 = {'BestBay': pM1b[:,BeM1] ,'WorstBay': pM1b[:,WoM1], \n",
    "      'BestFreq': np.random.normal(muF1[BeM1], np.sqrt(covF1[BeM1,BeM1]), 8000), \n",
    "      'WorstFrec': np.random.normal(muF1[WoM1], np.sqrt(covF1[WoM1,WoM1]), 8000)}\n",
    "dfM1 = pd.DataFrame(dtM1)\n",
    "\n",
    "# Model 2\n",
    "dtM2 = {'BestBay': pM2b[:,BeM2] ,'WorstBay': pM2b[:,WoM2], \n",
    "      'BestFreq': np.random.normal(muF2[BeM2], np.sqrt(covF2[BeM2,BeM2]), 8000), \n",
    "      'WorstFrec': np.random.normal(muF2[WoM2], np.sqrt(covF2[WoM2,WoM2]), 8000)}\n",
    "dfM2 = pd.DataFrame(dtM2)\n",
    "\n",
    "# Model 3\n",
    "dtM3 = {'BestBay': pM3b[:,BeM3] ,'WorstBay': pM3b[:,WoM3], \n",
    "      'BestFreq': np.random.normal(muF3[BeM3], np.sqrt(covF3[BeM3,BeM3]), 8000), \n",
    "      'WorstFrec': np.random.normal(muF1[WoM3], np.sqrt(covF3[WoM3,WoM3]), 8000)}\n",
    "dfM3 = pd.DataFrame(dtM3)"
   ]
  },
  {
   "cell_type": "code",
   "execution_count": null,
   "metadata": {},
   "outputs": [],
   "source": [
    "# Data\n",
    "C4I = (pd.read_csv(\"Calibration_4_Events_Inputs.csv\"))\n",
    "C4D = (pd.read_csv(\"Calibration_4_Observables.csv\"))\n",
    "Inputs = [C4I]\n",
    "Outputs = [C4D]\n"
   ]
  },
  {
   "cell_type": "code",
   "execution_count": null,
   "metadata": {},
   "outputs": [],
   "source": [
    "parMin = [0.0036,0.0036,\n",
    "          0.0089,0.0089,\n",
    "          0.0027,0.8913,2.6738,0.8913,0,0,\n",
    "          0.0056,0.0891,2.6738,0.0089,0,0]"
   ]
  },
  {
   "cell_type": "code",
   "execution_count": null,
   "metadata": {},
   "outputs": [],
   "source": [
    "import pickle"
   ]
  },
  {
   "cell_type": "code",
   "execution_count": null,
   "metadata": {},
   "outputs": [],
   "source": [
    "tmp1 = pickle.load(open('BayesianSimulations.pkl','rb'))\n",
    "tmp2 = pickle.load(open('FrequentistSimulations.pkl','rb'))"
   ]
  },
  {
   "cell_type": "markdown",
   "metadata": {},
   "source": [
    "#### Plot"
   ]
  },
  {
   "cell_type": "code",
   "execution_count": null,
   "metadata": {},
   "outputs": [],
   "source": [
    "#fig = plt.figure(figsize=(5.7, 4.5), dpi = 250)\n",
    "fig = plt.figure(figsize=(5.8,3.2), dpi = 250)\n",
    "sns.set_context(\"paper\", rc={\"font.size\":8,\"axes.titlesize\":8,\"axes.labelsize\":8,\"axes.tickslabelssize\":8,\"text.usetex\" : True,\"text.latex.unicode\" : True})  \n",
    "gs = gridspec.GridSpec(8, 8, hspace = 1.5)\n",
    "\n",
    "ax1 = plt.subplot(gs[2:4, 0:2])\n",
    "# sns.jointplot(x=dfM1['BestBay'], y=dfM1['WorstBay'], kind='kde',color=\"skyblue\")\n",
    "\n",
    "ax1.scatter(dfM1['BestFreq'], dfM1['WorstFrec'], color = '#d9d9d9', marker='.', s=1, label='F')\n",
    "ax1.scatter(dfM1['BestBay'], dfM1['WorstBay'], color='#525252', marker='.', s=1, label = 'B')\n",
    "ax1.tick_params(length=1.5)\n",
    "ax1.set_xlabel(M1Thetanams[BeM1])\n",
    "ax1.set_ylabel(M1Thetanams[WoM1])\n",
    "ax1.set_ylim([-100,300])\n",
    "ax1.set_title('Model 1')\n",
    "ax1.legend(framealpha = 0.0,bbox_to_anchor=(1.05, 1.0, 0.3, 0.2), loc='upper center')\n",
    "\n",
    "ax2 = plt.subplot(gs[4:6,0:2])\n",
    "\n",
    "ax2.scatter(dfM2['BestFreq'], dfM2['WorstFrec'], color = '#d9d9d9', marker='.', s=1, label='F')\n",
    "ax2.scatter(dfM2['BestBay'], dfM2['WorstBay'], color='#525252', marker='.', s=1, label = 'B')\n",
    "ax2.tick_params(length=1.5)\n",
    "ax2.set_xlabel(M23Thetanams[BeM2])\n",
    "ax2.set_ylabel(M23Thetanams[WoM2])\n",
    "ax2.set_ylim([-100,300])\n",
    "ax2.set_title('Model 2')\n",
    "#ax2.legend()\n",
    "\n",
    "ax3 = plt.subplot(gs[6:8,0:2])\n",
    "\n",
    "ax3.scatter(dfM3['BestFreq'], dfM3['WorstFrec'], color = '#d9d9d9', marker='.', s=1, label='F')\n",
    "ax3.scatter(dfM3['BestBay'], dfM3['WorstBay'], color='#525252', marker='.', s=1, label = 'B')\n",
    "ax3.tick_params(length=1.5)\n",
    "ax3.set_xlabel(M23Thetanams[BeM3])\n",
    "ax3.set_ylabel(M23Thetanams[WoM3])\n",
    "ax3.set_ylim([-100,300])\n",
    "ax3.set_title('Model 3')\n",
    "#ax3.legend()\n",
    "\n",
    "ax4 = plt.subplot(gs[0:3, 3:8])\n",
    "exp = 0\n",
    "sp = list(np.around(np.append(np.asarray(Inputs[exp]['Switchingtimes']), Inputs[exp]['FinalTime'][0])).astype(int))\n",
    "ts =  np.around(np.asarray(Outputs[0]['timeGFP'])).astype(int)\n",
    "t = ts\n",
    "    \n",
    "\n",
    "#lines1 = ax4.plot(t, GFP_M1f,color='#039a00')\n",
    "lines1 = ax4.plot(t, tmp2['Sims'][1],color='#ccece6',linewidth=0.5)\n",
    "#'#99d8c9'\n",
    "ax4.plot(0,0,color='#ccece6', label = '$F$')\n",
    "#lines2 = ax4.plot(t, GFP_M1,color='#10fb00')\n",
    "lines2 = ax4.plot(t, tmp1['Sims'][1], color='#41ae76',linewidth=0.5)\n",
    "ax4.plot(0,0,color='#41ae76', label = '$B$')\n",
    "\n",
    "ax4.errorbar(Outputs[0]['timeGFP'], Outputs[0]['GFPmean'], yerr= Outputs[0]['GFPstd'],fmt='.',markersize = 2,color='grey',elinewidth=0.3,alpha = 0.3)\n",
    "\n",
    "ax4.tick_params(length=1.5)\n",
    "ax4.set_ylabel('GFP (AU)')\n",
    "ax4.set_xlabel('time (min)')\n",
    "ax4.spines['top'].set_visible(False)\n",
    "ax4.spines['right'].set_visible(False)\n",
    "ax4.set_xlabel('')\n",
    "ax4.set_title('Calibration 4')\n",
    "plt.setp(ax4.get_xticklabels(), visible=False)\n",
    "ax4.legend(loc=2)\n",
    "\n",
    "    \n",
    "ax5 = plt.subplot(gs[3:6, 3:8])\n",
    "\n",
    "#lines1 = ax5.plot(t, RFP_M1f,color='#f44b4b')\n",
    "lines1 = ax5.plot(t, tmp2['Sims'][0],color='#fee0d2',linewidth=0.5)\n",
    "#fcbba1'\n",
    "ax5.plot(0,0,color='#fee0d2', label = '$F$')\n",
    "\n",
    "#lines2 = ax5.plot(t, RFP_M1, color='#d61111')\n",
    "lines2 = ax5.plot(t, tmp1['Sims'][0], color='#ef3b2c',linewidth = 0.5)\n",
    "ax5.plot(0,0,color='#ef3b2c', label = '$B$')\n",
    "\n",
    "ax5.errorbar(Outputs[0]['timeRFP'], Outputs[0]['RFPmean'], yerr= Outputs[0]['RFPstd'],fmt='.',markersize = 2,color='grey',elinewidth=0.3,alpha = 0.3)\n",
    "\n",
    "\n",
    "ax5.tick_params(length=1.5)\n",
    "ax5.set_ylabel('RFP (AU)')\n",
    "ax5.set_xlabel('time (min)')\n",
    "ax5.spines['top'].set_visible(False)\n",
    "ax5.spines['right'].set_visible(False)\n",
    "ax5.set_xlabel('')\n",
    "ax5.set_title('Calibration 4')\n",
    "plt.setp(ax5.get_xticklabels(), visible=False)\n",
    "ax5.legend(loc=1)\n",
    "\n",
    "\n",
    "ax6 = plt.subplot(gs[6, 3:8])\n",
    "ax6.step(sp, [(Inputs[exp]['IPTG'][0])]+ list(Inputs[exp]['IPTG']), 'cyan')\n",
    "ax6.set_xticklabels('')\n",
    "ax6.set_ylabel('IPTG \\n (mM)')\n",
    "ax6.tick_params(length=1.5)\n",
    "ax6.spines['right'].set_visible(False)\n",
    "ax6.spines['top'].set_visible(False)\n",
    "    \n",
    "ax7 = plt.subplot(gs[7, 3:8])\n",
    "ax7.step(sp, [(Inputs[exp]['aTc'][0])]+ list(Inputs[exp]['aTc']), 'violet')\n",
    "ax7.set_xlabel('time (min)')\n",
    "ax7.set_ylabel('aTc \\n (ng/ml)')\n",
    "ax7.tick_params(length=1.5)\n",
    "ax7.spines['right'].set_visible(False)\n",
    "ax7.spines['top'].set_visible(False)\n",
    "\n",
    "\n",
    "plt.show()"
   ]
  }
 ],
 "metadata": {
  "kernelspec": {
   "display_name": "Python 3",
   "language": "python",
   "name": "python3"
  },
  "language_info": {
   "codemirror_mode": {
    "name": "ipython",
    "version": 3
   },
   "file_extension": ".py",
   "mimetype": "text/x-python",
   "name": "python",
   "nbconvert_exporter": "python",
   "pygments_lexer": "ipython3",
   "version": "3.6.10"
  }
 },
 "nbformat": 4,
 "nbformat_minor": 4
}
