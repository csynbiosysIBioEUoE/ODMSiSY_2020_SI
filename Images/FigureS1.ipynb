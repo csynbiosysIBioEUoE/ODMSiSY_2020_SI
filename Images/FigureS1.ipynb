{
 "cells": [
  {
   "cell_type": "markdown",
   "metadata": {},
   "source": [
    "# Figure S1"
   ]
  },
  {
   "cell_type": "markdown",
   "metadata": {},
   "source": [
    "### Load required libraries"
   ]
  },
  {
   "cell_type": "code",
   "execution_count": null,
   "metadata": {},
   "outputs": [],
   "source": [
    "import numpy as np\n",
    "import matplotlib.pyplot as plt\n",
    "import pandas as pd\n",
    "import seaborn as sns\n",
    "import pickle\n",
    "from scipy.io import loadmat\n",
    "import seaborn as sns\n",
    "import matplotlib.ticker\n",
    "import matplotlib.gridspec as gridspec\n",
    "import seaborn as sns\n",
    "import matplotlib.ticker\n",
    "import matplotlib.gridspec as gridspec\n",
    "\n",
    "from multiprocessing import Pool\n",
    "import multiprocessing as mp\n"
   ]
  },
  {
   "cell_type": "markdown",
   "metadata": {},
   "source": [
    "### Get data"
   ]
  },
  {
   "cell_type": "markdown",
   "metadata": {},
   "source": [
    "Bayesian"
   ]
  },
  {
   "cell_type": "code",
   "execution_count": null,
   "metadata": {},
   "outputs": [],
   "source": [
    "df_nRMSE_B = pd.read_pickle('/BayesSimulations/ValidationSetBayesnRMSE.pkl')"
   ]
  },
  {
   "cell_type": "code",
   "execution_count": null,
   "metadata": {},
   "outputs": [],
   "source": [
    "Mods = ['Model_1']*400*10+['Model_2']*400*10+['Model_3']*400*10\n",
    "Exps = (['Val_1']*400+['Val_2']*400+['Val_3']*400+['Val_4']*400+['Val_5']*400+['Val_6']*400+['Val_7']*400+['Val_8']*400+['Val_9']*400+['Val_10']*400)*3"
   ]
  },
  {
   "cell_type": "code",
   "execution_count": null,
   "metadata": {},
   "outputs": [],
   "source": [
    "d1RFP = np.concatenate([df_nRMSE_B['Val1'][0], df_nRMSE_B['Val2'][0], df_nRMSE_B['Val3'][0], df_nRMSE_B['Val4'][0], \n",
    "                      df_nRMSE_B['Val5'][0],df_nRMSE_B['Val6'][0],df_nRMSE_B['Val7'][0],df_nRMSE_B['Val8'][0],\n",
    "                      df_nRMSE_B['Val9'][0],df_nRMSE_B['Val10'][0], \n",
    "                       df_nRMSE_B['Val1'][1], df_nRMSE_B['Val2'][1], df_nRMSE_B['Val3'][1], df_nRMSE_B['Val4'][1], \n",
    "                      df_nRMSE_B['Val5'][1],df_nRMSE_B['Val6'][1],df_nRMSE_B['Val7'][1],df_nRMSE_B['Val8'][1],\n",
    "                      df_nRMSE_B['Val9'][1],df_nRMSE_B['Val10'][1], \n",
    "                       df_nRMSE_B['Val1'][2], df_nRMSE_B['Val2'][2], df_nRMSE_B['Val3'][2], df_nRMSE_B['Val4'][2], \n",
    "                      df_nRMSE_B['Val5'][2],df_nRMSE_B['Val6'][2],df_nRMSE_B['Val7'][2],df_nRMSE_B['Val8'][2],\n",
    "                      df_nRMSE_B['Val9'][2],df_nRMSE_B['Val10'][2]])\n",
    "\n",
    "d1GFP = np.concatenate([df_nRMSE_B['Val1'][3], df_nRMSE_B['Val2'][3], df_nRMSE_B['Val3'][3], df_nRMSE_B['Val4'][3], \n",
    "                      df_nRMSE_B['Val5'][3],df_nRMSE_B['Val6'][3],df_nRMSE_B['Val7'][3],df_nRMSE_B['Val8'][3],\n",
    "                      df_nRMSE_B['Val9'][3],df_nRMSE_B['Val10'][3], \n",
    "                       df_nRMSE_B['Val1'][4], df_nRMSE_B['Val2'][4], df_nRMSE_B['Val3'][4], df_nRMSE_B['Val4'][4], \n",
    "                      df_nRMSE_B['Val5'][4],df_nRMSE_B['Val6'][4],df_nRMSE_B['Val7'][4],df_nRMSE_B['Val8'][4],\n",
    "                      df_nRMSE_B['Val9'][4],df_nRMSE_B['Val10'][4], \n",
    "                       df_nRMSE_B['Val1'][5], df_nRMSE_B['Val2'][5], df_nRMSE_B['Val3'][5], df_nRMSE_B['Val4'][5], \n",
    "                      df_nRMSE_B['Val5'][5],df_nRMSE_B['Val6'][5],df_nRMSE_B['Val7'][5],df_nRMSE_B['Val8'][5],\n",
    "                      df_nRMSE_B['Val9'][5],df_nRMSE_B['Val10'][5]])"
   ]
  },
  {
   "cell_type": "code",
   "execution_count": null,
   "metadata": {},
   "outputs": [],
   "source": [
    "datRFP = pd.DataFrame(np.matrix.transpose(np.array([np.asarray(d1RFP), np.asarray(Mods), np.asarray(Exps)])), columns = ['nRMSE','Model','Exper'])\n",
    "datGFP = pd.DataFrame(np.matrix.transpose(np.array([np.asarray(d1GFP), np.asarray(Mods), np.asarray(Exps)])), columns = ['nRMSE','Model','Exper'])\n",
    "\n",
    "# Values are loaded as strings not numbers\n",
    "datRFP['nRMSE'] = [float(x) for x in np.array(datRFP['nRMSE'])]\n",
    "datGFP['nRMSE'] = [float(x) for x in np.array(datGFP['nRMSE'])]"
   ]
  },
  {
   "cell_type": "code",
   "execution_count": null,
   "metadata": {},
   "outputs": [],
   "source": [
    "dat = pd.DataFrame(np.matrix.transpose(np.array([np.asarray(datRFP['nRMSE']+datGFP['nRMSE']), np.asarray(Mods), np.asarray(Exps)])), columns = ['nRMSE','Model','Exper'])\n",
    "dat['nRMSE'] = [float(x) for x in np.array(dat['nRMSE'])]"
   ]
  },
  {
   "cell_type": "markdown",
   "metadata": {},
   "source": [
    "Frequentist"
   ]
  },
  {
   "cell_type": "code",
   "execution_count": null,
   "metadata": {},
   "outputs": [],
   "source": [
    "df_nRMSEf = pd.read_pickle('/BayesSimulations/ValidationSetFrequentistRMSE.pkl')"
   ]
  },
  {
   "cell_type": "code",
   "execution_count": null,
   "metadata": {},
   "outputs": [],
   "source": [
    "Modsf = (['Model_1']+['Model_2']+['Model_3'])*10\n",
    "Expsf = (['Val_1']*3+['Val_2']*3+['Val_3']*3+['Val_4']*3+['Val_5']*3+['Val_6']*3+['Val_7']*3+['Val_8']*3+['Val_9']*3+['Val_10']*3)"
   ]
  },
  {
   "cell_type": "code",
   "execution_count": null,
   "metadata": {},
   "outputs": [],
   "source": [
    "d1RFPf = np.concatenate([df_nRMSEf['Val1'][0], df_nRMSEf['Val2'][0], df_nRMSEf['Val3'][0], df_nRMSEf['Val4'][0], \n",
    "                      df_nRMSEf['Val5'][0],df_nRMSEf['Val6'][0],df_nRMSEf['Val7'][0],df_nRMSEf['Val8'][0],\n",
    "                      df_nRMSEf['Val9'][0],df_nRMSEf['Val10'][0], \n",
    "                       df_nRMSEf['Val1'][1], df_nRMSEf['Val2'][1], df_nRMSEf['Val3'][1], df_nRMSEf['Val4'][1], \n",
    "                      df_nRMSEf['Val5'][1],df_nRMSEf['Val6'][1],df_nRMSEf['Val7'][1],df_nRMSEf['Val8'][1],\n",
    "                      df_nRMSEf['Val9'][1],df_nRMSEf['Val10'][1], \n",
    "                       df_nRMSEf['Val1'][2], df_nRMSEf['Val2'][2], df_nRMSEf['Val3'][2], df_nRMSEf['Val4'][2], \n",
    "                      df_nRMSEf['Val5'][2],df_nRMSEf['Val6'][2],df_nRMSEf['Val7'][2],df_nRMSEf['Val8'][2],\n",
    "                      df_nRMSEf['Val9'][2],df_nRMSEf['Val10'][2]])\n",
    "\n",
    "d1GFPf = np.concatenate([df_nRMSEf['Val1'][3], df_nRMSEf['Val2'][3], df_nRMSEf['Val3'][3], df_nRMSEf['Val4'][3], \n",
    "                      df_nRMSEf['Val5'][3],df_nRMSEf['Val6'][3],df_nRMSEf['Val7'][3],df_nRMSEf['Val8'][3],\n",
    "                      df_nRMSEf['Val9'][3],df_nRMSEf['Val10'][3], \n",
    "                       df_nRMSEf['Val1'][4], df_nRMSEf['Val2'][4], df_nRMSEf['Val3'][4], df_nRMSEf['Val4'][4], \n",
    "                      df_nRMSEf['Val5'][4],df_nRMSEf['Val6'][4],df_nRMSEf['Val7'][4],df_nRMSEf['Val8'][4],\n",
    "                      df_nRMSEf['Val9'][4],df_nRMSEf['Val10'][4], \n",
    "                       df_nRMSEf['Val1'][5], df_nRMSEf['Val2'][5], df_nRMSEf['Val3'][5], df_nRMSEf['Val4'][5], \n",
    "                      df_nRMSEf['Val5'][5],df_nRMSEf['Val6'][5],df_nRMSEf['Val7'][5],df_nRMSEf['Val8'][5],\n",
    "                      df_nRMSEf['Val9'][5],df_nRMSEf['Val10'][5]])"
   ]
  },
  {
   "cell_type": "code",
   "execution_count": null,
   "metadata": {},
   "outputs": [],
   "source": [
    "datRFPf = pd.DataFrame(np.matrix.transpose(np.array([np.asarray(d1RFPf), np.asarray(Modsf), np.asarray(Expsf)])), columns = ['nRMSE','Model','Exper'])\n",
    "datGFPf = pd.DataFrame(np.matrix.transpose(np.array([np.asarray(d1GFPf), np.asarray(Modsf), np.asarray(Expsf)])), columns = ['nRMSE','Model','Exper'])\n",
    "\n",
    "# Values are loaded as strings not numbers\n",
    "datRFPf['nRMSE'] = [float(x) for x in np.array(datRFPf['nRMSE'])]\n",
    "datGFPf['nRMSE'] = [float(x) for x in np.array(datGFPf['nRMSE'])]"
   ]
  },
  {
   "cell_type": "code",
   "execution_count": null,
   "metadata": {},
   "outputs": [],
   "source": [
    "datf = pd.DataFrame(np.matrix.transpose(np.array([np.asarray(datRFPf['nRMSE']+datGFPf['nRMSE']), np.asarray(Modsf), np.asarray(Expsf)])), columns = ['nRMSE','Model','Exper'])\n",
    "datf['nRMSE'] = [float(x) for x in np.array(datf['nRMSE'])]"
   ]
  },
  {
   "cell_type": "markdown",
   "metadata": {},
   "source": [
    "## Figure"
   ]
  },
  {
   "cell_type": "code",
   "execution_count": null,
   "metadata": {},
   "outputs": [],
   "source": [
    "fig = plt.figure(figsize=(10, 5.8), dpi = 600)\n",
    "sns.set_context(\"paper\", rc={\"font.size\":8,\"axes.titlesize\":8,\"axes.labelsize\":8,\"axes.tickslabelssize\":8,\"text.usetex\" : True,\"text.latex.unicode\" : True})  \n",
    "gs = gridspec.GridSpec(2, 1)\n",
    "\n",
    "# dictionaries definition\n",
    "pal_GFP = dict(Model_1='#00441b', Model_2 = '#41ab5d',Model_3 = '#c7e9c0')\n",
    "pal_RFP = dict(Model_1='#67000d', Model_2 = '#ef3b2c',Model_3 = '#fcbba1')\n",
    "\n",
    "ax1 = plt.subplot(gs[0, 0])\n",
    "ax1 = sns.swarmplot(x = 'Exper', y = 'nRMSE', hue = 'Model', data = datRFP,\n",
    "                    size=1.4, color=\"k\", linewidth=0, alpha = .1, dodge = True, hue_order = [\"Model_1\", \"Model_2\", \"Model_3\"],palette = pal_RFP)\n",
    "\n",
    "ax1 = sns.swarmplot(x = 'Exper', y = 'nRMSE', hue = 'Model', data = datRFPf,\n",
    "                    size=3,dodge = True, hue_order = [\"Model_1\", \"Model_2\", \"Model_3\"],palette=pal_RFP,marker= \"s\")\n",
    "ax1.set_xticklabels((r'$E_{c4}$',r'$E_{c5}$',r'$E_{c6}$',r'$E_{d8}$',r'$E_{d9}$',r'$E_{d10}$',r'$E_{d11}$',r'$E_{d12}$',r'$E_{d13}$',r'$E_{d14}$'))\n",
    "ax1.bar([1,3,5,7,9], np.max(datRFPf['nRMSE']), width=0.8,color=\"#eeeeee\", alpha=0.3, align='center', data=None)\n",
    "ax1.spines['top'].set_visible(False)\n",
    "ax1.spines['right'].set_visible(False)\n",
    "ax1.tick_params(length=2)\n",
    "ax1.set_yscale('log')\n",
    "\n",
    "ax2 = plt.subplot(gs[1, 0])\n",
    "ax2 = sns.swarmplot(x = 'Exper', y = 'nRMSE', hue = 'Model', data = datGFP,\n",
    "                    size=1.4, color=\"k\", linewidth=0, alpha = .1, dodge = True, hue_order = [\"Model_1\", \"Model_2\", \"Model_3\"],palette=pal_GFP)\n",
    "\n",
    "\n",
    "ax2 = sns.swarmplot(x = 'Exper', y = 'nRMSE', hue = 'Model', data = datGFPf,\n",
    "                    size=3, dodge = True, hue_order = [\"Model_1\", \"Model_2\", \"Model_3\"],palette=pal_GFP,marker=\"s\")\n",
    "ax2.bar([1,3,5,7,9], np.max(datGFPf['nRMSE']), width=0.8,color=\"#eeeeee\", alpha=0.3, align='center', data=None)\n",
    "ax2.spines['top'].set_visible(False)\n",
    "ax2.spines['right'].set_visible(False)\n",
    "ax2.set_xticklabels((r'$E_{c4}$',r'$E_{c5}$',r'$E_{c6}$',r'$E_{d8}$',r'$E_{d9}$',r'$E_{d10}$',r'$E_{d11}$',r'$E_{d12}$',r'$E_{d13}$',r'$E_{d14}$'))\n",
    "ax2.set_xlabel('Experiment')\n",
    "ax2.tick_params(length=2)\n",
    "ax2.set_yscale('log')\n",
    "\n",
    "plt.show()"
   ]
  },
  {
   "cell_type": "code",
   "execution_count": null,
   "metadata": {},
   "outputs": [],
   "source": []
  }
 ],
 "metadata": {
  "kernelspec": {
   "display_name": "Python 3",
   "language": "python",
   "name": "python3"
  },
  "language_info": {
   "codemirror_mode": {
    "name": "ipython",
    "version": 3
   },
   "file_extension": ".py",
   "mimetype": "text/x-python",
   "name": "python",
   "nbconvert_exporter": "python",
   "pygments_lexer": "ipython3",
   "version": "3.6.10"
  }
 },
 "nbformat": 4,
 "nbformat_minor": 4
}
